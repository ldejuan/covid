{
  "nbformat": 4,
  "nbformat_minor": 0,
  "metadata": {
    "colab": {
      "name": "covid19_ml_2.ipynb",
      "provenance": [],
      "collapsed_sections": [],
      "toc_visible": true,
      "include_colab_link": true
    },
    "kernelspec": {
      "name": "python3",
      "display_name": "Python 3"
    }
  },
  "cells": [
    {
      "cell_type": "markdown",
      "metadata": {
        "id": "view-in-github",
        "colab_type": "text"
      },
      "source": [
        "<a href=\"https://colab.research.google.com/github/ldejuan/covid/blob/master/covid19_ml_2.ipynb\" target=\"_parent\"><img src=\"https://colab.research.google.com/assets/colab-badge.svg\" alt=\"Open In Colab\"/></a>"
      ]
    },
    {
      "cell_type": "code",
      "metadata": {
        "id": "0rSizBIDy4rR",
        "colab_type": "code",
        "colab": {}
      },
      "source": [
        "#\n",
        "# Model on delta log of the amount of either Fatalities or Confindent Cases\n",
        "#\n"
      ],
      "execution_count": 0,
      "outputs": []
    },
    {
      "cell_type": "code",
      "metadata": {
        "id": "nrLyNFr5zCCq",
        "colab_type": "code",
        "colab": {}
      },
      "source": [
        "import numpy as np\n",
        "import pandas as pd\n",
        "import zipfile\n",
        "import matplotlib.pyplot as plt\n",
        "from pandas.plotting import register_matplotlib_converters\n",
        "register_matplotlib_converters()\n",
        "from sklearn.ensemble import RandomForestRegressor\n",
        "from sklearn.linear_model import MultiTaskLasso\n",
        "\n",
        "from sklearn.compose import ColumnTransformer\n",
        "from sklearn.datasets import fetch_openml\n",
        "from sklearn.pipeline import Pipeline\n",
        "from sklearn.impute import SimpleImputer\n",
        "from sklearn.preprocessing import StandardScaler, OneHotEncoder\n",
        "from sklearn.model_selection import train_test_split, GridSearchCV\n",
        "from scipy import interpolate\n",
        "\n"
      ],
      "execution_count": 0,
      "outputs": []
    },
    {
      "cell_type": "code",
      "metadata": {
        "id": "rmvfI2bKzZDJ",
        "colab_type": "code",
        "colab": {}
      },
      "source": [
        "#read zip train and test data set from zip Archive\n",
        "PATH_DATA= \"./drive/My Drive/covid/\"\n",
        "fileNameZip = 'covid19-global-forecasting-week-2.zip'\n",
        "archiveName = \"%s%s\"%(PATH_DATA,fileNameZip)\n",
        "trainName= 'train.csv'\n",
        "testName = 'test.csv'\n",
        "submissionNane = 'submission.csv'\n",
        "if zipfile.is_zipfile(archiveName):\n",
        "  with zipfile.ZipFile(archiveName) as archive:\n",
        "    dfTrain = pd.read_csv(archive.open(trainName,'r')).\\\n",
        "      rename(columns={\"Country/Region\":\"Country_Region\",\n",
        "                      \"Province/State\":\"Province_State\"})\n",
        "      \n",
        "    dfTest  = pd.read_csv(archive.open(testName,'r')).\\\n",
        "      rename(columns={\"Country/Region\":\"Country_Region\",\n",
        "                      \"Province/State\":\"Province_State\"})\n",
        "    dfSubmission  = pd.read_csv(archive.open(submissionNane,'r'))"
      ],
      "execution_count": 0,
      "outputs": []
    },
    {
      "cell_type": "code",
      "metadata": {
        "id": "Yk-DfjL20XZg",
        "colab_type": "code",
        "colab": {}
      },
      "source": [
        "#\n",
        "# Replace Province_State by None\n",
        "#\n",
        "dfTrain.replace(to_replace = np.nan, value ='none', inplace  =True)\n",
        "dfTest.replace(to_replace = np.nan, value ='none', inplace  =True)\n",
        "dfTrain['Date'] = pd.to_datetime(dfTrain['Date'])\n",
        "dfTest['Date'] = pd.to_datetime(dfTest['Date'])\n"
      ],
      "execution_count": 0,
      "outputs": []
    },
    {
      "cell_type": "code",
      "metadata": {
        "id": "0mLzY-7Uf0fe",
        "colab_type": "code",
        "colab": {}
      },
      "source": [
        "dfTrainAgg.day_from_Fatality"
      ],
      "execution_count": 0,
      "outputs": []
    },
    {
      "cell_type": "code",
      "metadata": {
        "id": "qAYvQpho1b5m",
        "colab_type": "code",
        "colab": {}
      },
      "source": [
        "from google.colab import drive\n",
        "drive.mount('/content/drive')"
      ],
      "execution_count": 0,
      "outputs": []
    },
    {
      "cell_type": "code",
      "metadata": {
        "id": "2nBWeIdizfeA",
        "colab_type": "code",
        "colab": {}
      },
      "source": [
        "#\n",
        "# Create features per country\n",
        "#\n",
        "startFatalityThreshold = 5\n",
        "def aggByCountry(x):\n",
        "  x['Country_Fatalities'] = np.sum(x.Fatalities.values)\n",
        "  x['Country_ConfirmedCases'] = np.sum(x.ConfirmedCases.values)\n",
        "  return x\n",
        "dfTrainAgg = dfTrain.groupby([\"Country_Region\",\"Date\"]).apply(aggByCountry)"
      ],
      "execution_count": 0,
      "outputs": []
    },
    {
      "cell_type": "code",
      "metadata": {
        "id": "HUY9UhmiXC_F",
        "colab_type": "code",
        "colab": {}
      },
      "source": [
        "#\n",
        "# Make logarithm features and log difference par country & province\n",
        "#\n",
        "def log_corrected(x):\n",
        "  y = np.log(x)\n",
        "  y[y == -np.inf] = 0.\n",
        "  return y\n",
        "\n",
        "def makeLogFeatures(df):\n",
        "  print ('processing ..%s: %s'%(df.Country_Region.iloc[0],df.Province_State.iloc[0]))\n",
        "  df['log_Fatalities'] = log_corrected(df.Fatalities)\n",
        "  df['log_ConfirmedCases'] = log_corrected(df.ConfirmedCases)\n",
        "  df['log_Country_Fatalities'] = log_corrected(df.Country_Fatalities)\n",
        "  df['log_Country_ConfirmedCases'] = log_corrected(df.Country_ConfirmedCases)\n",
        "\n",
        "  df['diff_log_Fatalities'] = df['log_Fatalities'].diff().fillna(value = 0.)\n",
        "  df['diff_log_ConfirmedCases'] = df['log_ConfirmedCases'].diff().fillna(value = 0.)\n",
        "\n",
        "  df['diff_log_Country_Fatalities'] = df['log_Country_Fatalities'].diff().fillna(value = 0.)\n",
        "  df['diff_log_Country_ConfirmedCases'] = df['log_Country_ConfirmedCases'].diff().fillna(value = 0.)\n",
        "\n",
        "  return df\n",
        "dfTrainFeatures = dfTrainAgg.groupby([\"Country_Region\",\"Province_State\"]).apply(makeLogFeatures)\n",
        "#\n",
        "# Make days_from_Fatalities\n",
        "#\n",
        "startFatalityThreshold = 3\n",
        "def calculateThreshold(df):\n",
        "  dateMin = df[df.Country_Fatalities > startFatalityThreshold].Date.min()\n",
        "  if pd.isnull(dateMin):\n",
        "    df['days_from_Fatalities'] = -1000.\n",
        "  else:\n",
        "    df['days_from_Fatalities']= (df.Date - dateMin) / np.timedelta64(1,'D')\n",
        "\n",
        "  return df\n",
        "\n",
        "dfTrainFeatures = dfTrainFeatures.groupby([\"Country_Region\",\"Province_State\"]).apply(calculateThreshold)  \n"
      ],
      "execution_count": 0,
      "outputs": []
    },
    {
      "cell_type": "code",
      "metadata": {
        "id": "pxJF091lzkDl",
        "colab_type": "code",
        "colab": {}
      },
      "source": [
        "#\n",
        "# Create Forecast features and outputs \n",
        "#\n",
        "def createShiftedFeature(df):\n",
        "  df['diff_log_Cntry_Fatalities_1'] = df.diff_log_Country_Fatalities.shift(1)\n",
        "  df['diff_log_Cntry_Fatalities_3'] = df.diff_log_Country_Fatalities.shift(3)\n",
        "  df['diff_log_Cntry_Fatalities_5'] = df.diff_log_Country_Fatalities.shift(5)\n",
        "  df['diff_log_Fatalities_1'] = df.diff_log_Country_Fatalities.shift(1)\n",
        "  df['diff_log_Fatalities_3'] = df.diff_log_Country_Fatalities.shift(3)\n",
        "  df['diff_log_Fatalities_5'] = df.diff_log_Country_Fatalities.shift(5)\n",
        "# Output  \n",
        "  df['diff_log_Fatalities_p1'] = df.diff_log_Fatalities.shift(-1)\n",
        "  df['diff_log_Fatalities_p3'] = df.diff_log_Fatalities.shift(-3)\n",
        "  df['diff_log_Fatalities_p5'] = df.diff_log_Fatalities.shift(-5)\n",
        "  df['diff_log_Fatalities_p21'] = df.diff_log_Fatalities.shift(-21)\n",
        "\n",
        "  df['diff_log_Cntry_Confirmed_1'] = df.diff_log_Country_ConfirmedCases.shift(1)\n",
        "  df['diff_log_Cntry_Confirmed_3'] = df.diff_log_Country_ConfirmedCases.shift(3)\n",
        "  df['diff_log_Cntry_Confirmed_5'] = df.diff_log_Country_ConfirmedCases.shift(5)\n",
        "  df['diff_log_Confirmed_1'] = df.diff_log_Country_ConfirmedCases.shift(1)\n",
        "  df['diff_log_Confirmed_3'] = df.diff_log_Country_ConfirmedCases.shift(3)\n",
        "  df['diff_log_Confirmed_5'] = df.diff_log_Country_ConfirmedCases.shift(5)\n",
        "# Output\n",
        "  df['diff_log_Confirmed_p1'] = df.diff_log_ConfirmedCases.shift(-1)\n",
        "  df['diff_log_Confirmed_p3'] = df.diff_log_ConfirmedCases.shift(-3)\n",
        "  df['diff_log_Confirmed_p5'] = df.diff_log_ConfirmedCases.shift(-5)\n",
        "  df['diff_log_Confirmed_p21'] = df.diff_log_ConfirmedCases.shift(-21)\n",
        "\n",
        "  return df\n",
        "\n",
        "df2 = dfTrainFeatures.groupby([\"Country_Region\",\"Province_State\"]).apply(createShiftedFeature)\n",
        "df2['Country_Province'] = df2['Country_Region'] + df2['Province_State']\n",
        "dfLast = df2.groupby(['Country_Region','Province_State']).tail(1).copy()"
      ],
      "execution_count": 0,
      "outputs": []
    },
    {
      "cell_type": "code",
      "metadata": {
        "id": "VKrvL68wMKjl",
        "colab_type": "code",
        "colab": {}
      },
      "source": [
        "\n"
      ],
      "execution_count": 0,
      "outputs": []
    },
    {
      "cell_type": "code",
      "metadata": {
        "id": "GwoN6TY72_2t",
        "colab_type": "code",
        "colab": {}
      },
      "source": [
        "#\n",
        "# Test a multi-regression\n",
        "#\n",
        "\n",
        "\n",
        "numeric_features = ['diff_log_Fatalities', \n",
        "                      'diff_log_ConfirmedCases',\n",
        "                      'diff_log_Country_Fatalities',\n",
        "                      'diff_log_Country_ConfirmedCases',\n",
        "                      'diff_log_Cntry_Fatalities_1',\n",
        "                      'diff_log_Cntry_Fatalities_3',\n",
        "                      'diff_log_Cntry_Fatalities_5',\n",
        "                      'diff_log_Cntry_Confirmed_1',\n",
        "                      'diff_log_Fatalities_1',\n",
        "                      'diff_log_Fatalities_3',\n",
        "                      'diff_log_Fatalities_5',\n",
        "                      'days_from_Fatalities']\n",
        "\n",
        "categorical_features = ['Country_Region', 'Country_Province']\n",
        "features = numeric_features + categorical_features\n",
        "\n",
        "def modelPrediction(model_forecast):\n",
        "  numeric_transformer = Pipeline(steps=[\n",
        "      ('imputer', SimpleImputer(strategy='median')),\n",
        "      ('scaler', StandardScaler())])\n",
        "\n",
        "\n",
        "  categorical_transformer = Pipeline(steps=[\n",
        "      ('imputer', SimpleImputer(strategy='constant', fill_value='missing')),\n",
        "      ('onehot', OneHotEncoder(handle_unknown='ignore', sparse = True))])\n",
        "\n",
        "  preprocessor = ColumnTransformer(\n",
        "      transformers=[\n",
        "          ('num', numeric_transformer, numeric_features),\n",
        "          ('cat', categorical_transformer, categorical_features)])\n",
        "\n",
        "  # Append classifier to preprocessing pipeline.\n",
        "  # Now we have a full prediction pipeline.\n",
        "  clf = Pipeline(steps=[('preprocessor', preprocessor),\n",
        "                        ('classifier', RandomForestRegressor(n_estimators=100, \n",
        "                                              max_depth = 30))])\n",
        "\n",
        "#removed na_values\n",
        "  df3 = df2.dropna(subset=features + [model_forecast])\n",
        "\n",
        "  X_train, X_test, y_train, y_test = train_test_split(df3[features], df3[model_forecast], test_size=0.1)\n",
        "\n",
        "  clf.fit(X_train, y_train)\n",
        "  print(\"model score: %.3f\" % clf.score(X_test, y_test))\n",
        "  return clf\n",
        "  \n"
      ],
      "execution_count": 0,
      "outputs": []
    },
    {
      "cell_type": "code",
      "metadata": {
        "id": "shM3jg04_4oN",
        "colab_type": "code",
        "colab": {}
      },
      "source": [
        "model_forecasts = ['diff_log_Fatalities_p1','diff_log_Fatalities_p3','diff_log_Fatalities_p5', 'diff_log_Fatalities_p21',\n",
        "                   'diff_log_Confirmed_p1','diff_log_Confirmed_p3','diff_log_Confirmed_p5','diff_log_Confirmed_p21']\n",
        "#model_forecasts = ['diff_log_Fatalities_p21']\n",
        "#clf = modelPrediction(model_forecasts)\n",
        "dfPredict = dfLast[['Country_Region','Province_State','Date']].copy()\n",
        "for model_forecast in model_forecasts:\n",
        "  print ('processing ... %s'%model_forecast)\n",
        "  dfPredict[model_forecast] = modelPrediction(model_forecast).predict(dfLast[features])"
      ],
      "execution_count": 0,
      "outputs": []
    },
    {
      "cell_type": "code",
      "metadata": {
        "id": "dnr5geizryJS",
        "colab_type": "code",
        "colab": {}
      },
      "source": [
        "#dfPredict = dfLast[['Country_Region','Province_State','Date']].copy()\n",
        "#dfResult = pd.DataFrame(data = clf.predict(dfLast[features]), index = dfPredict.index, columns = model_forecasts)\n",
        "#df4 = dfPredict.merge(right = dfPredict, left_index = True, right_index= True)\n",
        "#df4[df4.Country_Region == 'Spain']\n",
        "dfPredict[dfPredict.Country_Region == 'Spain']"
      ],
      "execution_count": 0,
      "outputs": []
    },
    {
      "cell_type": "code",
      "metadata": {
        "id": "QtM9nrkf-xae",
        "colab_type": "code",
        "colab": {}
      },
      "source": [
        "#\n",
        "# Aggregate with date and dfTest first\n",
        "#\n",
        "df4.head()"
      ],
      "execution_count": 0,
      "outputs": []
    },
    {
      "cell_type": "code",
      "metadata": {
        "id": "SMfSUYJGsela",
        "colab_type": "code",
        "colab": {}
      },
      "source": [
        "dfPredict.to_csv('%spredict_ml_2.csv'%PATH_DATA, index = False)"
      ],
      "execution_count": 0,
      "outputs": []
    },
    {
      "cell_type": "code",
      "metadata": {
        "id": "zBMFyzXJgWTK",
        "colab_type": "code",
        "colab": {}
      },
      "source": [
        "#\n",
        "# Transforming the results into rows\n",
        "#\n",
        "def aggByColumns(df):\n",
        "  x=pd.DataFrame({'diff_log_Fatalities' : [df.diff_log_Fatalities_p1.iloc[0], df.diff_log_Fatalities_p3.iloc[0],\n",
        "                                  df.diff_log_Fatalities_p5.iloc[0], df.diff_log_Fatalities_p21.iloc[0]], \n",
        "                'diff_log_ConfirmedCases' : [df.diff_log_Confirmed_p1.iloc[0], df.diff_log_Confirmed_p3.iloc[0],\n",
        "                                    df.diff_log_Confirmed_p5.iloc[0], df.diff_log_Confirmed_p21.iloc[0]],\n",
        "                'Date' : [df.Date.iloc[0] + np.timedelta64(1,'D'), df.Date.iloc[0] + np.timedelta64(3,'D'),\n",
        "                         df.Date.iloc[0] + np.timedelta64(5,'D'),\n",
        "                          df.Date.iloc[0] + np.timedelta64(21,'D')]\n",
        "  })\n",
        "  return x\n",
        "\n",
        "dfResult = dfPredict.groupby(['Country_Region','Province_State']).apply(aggByColumns).reset_index()"
      ],
      "execution_count": 0,
      "outputs": []
    },
    {
      "cell_type": "code",
      "metadata": {
        "id": "qSHdAjp9gpuT",
        "colab_type": "code",
        "colab": {}
      },
      "source": [
        "#\n",
        "# get the output for submission and merge the results\n",
        "#\n",
        "# change rows in test first\n",
        "dfResultAll = dfTest.merge(dfTrainFeatures, left_on=['Country_Region','Province_State','Date'], right_on=['Country_Region','Province_State','Date'], how= 'left')\n",
        "dfResultAllM = dfResultAll.set_index(keys = ['Country_Region','Province_State','Date'])\n",
        "dfResultM = dfResult.set_index(keys = ['Country_Region','Province_State','Date'])\n",
        "dfResultAllM.update(dfResultM[['diff_log_ConfirmedCases','diff_log_Fatalities']])\n",
        "dfResultAllM.reset_index(inplace = True, drop = False)"
      ],
      "execution_count": 0,
      "outputs": []
    },
    {
      "cell_type": "code",
      "metadata": {
        "id": "BgPRL8ApKduw",
        "colab_type": "code",
        "colab": {}
      },
      "source": [
        "#\n",
        "# Fill forward on diff_log_ConfirmedCases and diff_log_Fatalities backwards than forward\n",
        "#\n",
        "dfResultAllM[['diff_log_Fatalities','diff_log_ConfirmedCases']] = dfResultAllM[['diff_log_Fatalities','diff_log_ConfirmedCases']]\\\n",
        ".fillna(method = 'bfill')\\\n",
        ".fillna(method = 'ffill')"
      ],
      "execution_count": 0,
      "outputs": []
    },
    {
      "cell_type": "code",
      "metadata": {
        "id": "_l0OqzWj44CD",
        "colab_type": "code",
        "colab": {}
      },
      "source": [
        "dfResultAllM[dfResultAllM.Country_Region == 'Spain'].tail(20)"
      ],
      "execution_count": 0,
      "outputs": []
    },
    {
      "cell_type": "code",
      "metadata": {
        "id": "NKb_kbyLUjWH",
        "colab_type": "code",
        "colab": {}
      },
      "source": [
        "#\n",
        "# recalculate the ConfirmedCases and Fatalites from diff log\n",
        "#\n",
        "def completionForward(df):\n",
        "  print ('processing ..%s'%df.Country_Region.iloc[0])\n",
        "  cum_Fatalities = np.hstack(([0.], np.cumsum(df.diff_log_Fatalities.iloc[1:])))\n",
        "  df['Fatalities'] = df.Fatalities.iloc[0]*np.exp(cum_Fatalities)\n",
        "  cum_ConfirmedCases = np.hstack(([0.], np.cumsum(df.diff_log_ConfirmedCases.iloc[1:]))) \n",
        "  df['ConfirmedCases'] = df.ConfirmedCases.iloc[0]*np.exp(cum_ConfirmedCases)\n",
        "  return df\n",
        "\n",
        "submission = dfResultAllM.groupby([\"Country_Region\",\"Province_State\"]).apply(completionForward)"
      ],
      "execution_count": 0,
      "outputs": []
    },
    {
      "cell_type": "code",
      "metadata": {
        "id": "Q1SZgUqQWTBu",
        "colab_type": "code",
        "outputId": "f4843499-1944-4865-f557-d8b7999b1f85",
        "colab": {
          "base_uri": "https://localhost:8080/",
          "height": 35
        }
      },
      "source": [
        "\n",
        "submission[['Date','ForecastId','ConfirmedCases','Fatalities']].to_csv('%ssubmission.csv'%PATH_DATA)\n",
        "\n",
        "print ('Success Finished')\n",
        "  "
      ],
      "execution_count": 71,
      "outputs": [
        {
          "output_type": "stream",
          "text": [
            "Success Finished\n"
          ],
          "name": "stdout"
        }
      ]
    },
    {
      "cell_type": "code",
      "metadata": {
        "id": "O8_0xIfbEGUj",
        "colab_type": "code",
        "colab": {}
      },
      "source": [
        ""
      ],
      "execution_count": 0,
      "outputs": []
    }
  ]
}