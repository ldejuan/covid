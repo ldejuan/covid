{
  "nbformat": 4,
  "nbformat_minor": 0,
  "metadata": {
    "colab": {
      "name": "covid19_ml_3.ipynb",
      "provenance": [],
      "collapsed_sections": [],
      "toc_visible": true,
      "include_colab_link": true
    },
    "kernelspec": {
      "name": "python3",
      "display_name": "Python 3"
    }
  },
  "cells": [
    {
      "cell_type": "markdown",
      "metadata": {
        "id": "view-in-github",
        "colab_type": "text"
      },
      "source": [
        "<a href=\"https://colab.research.google.com/github/ldejuan/covid/blob/master/covid19_ml_3.ipynb\" target=\"_parent\"><img src=\"https://colab.research.google.com/assets/colab-badge.svg\" alt=\"Open In Colab\"/></a>"
      ]
    },
    {
      "cell_type": "code",
      "metadata": {
        "id": "0rSizBIDy4rR",
        "colab_type": "code",
        "colab": {}
      },
      "source": [
        "#\n",
        "# Model on delta log of country Fatalities > Level\n",
        "#\n"
      ],
      "execution_count": 0,
      "outputs": []
    },
    {
      "cell_type": "code",
      "metadata": {
        "id": "nrLyNFr5zCCq",
        "colab_type": "code",
        "colab": {}
      },
      "source": [
        "import numpy as np\n",
        "import pandas as pd\n",
        "import zipfile\n",
        "import matplotlib.pyplot as plt\n",
        "from pandas.plotting import register_matplotlib_converters\n",
        "register_matplotlib_converters()\n",
        "from sklearn.ensemble import RandomForestRegressor\n",
        "from sklearn.linear_model import MultiTaskLasso,Ridge,SGDRegressor\n",
        "\n",
        "\n",
        "from sklearn.compose import ColumnTransformer\n",
        "from sklearn.datasets import fetch_openml\n",
        "from sklearn.pipeline import Pipeline\n",
        "from sklearn.impute import SimpleImputer\n",
        "from sklearn.preprocessing import StandardScaler, OneHotEncoder\n",
        "from sklearn.model_selection import train_test_split, GridSearchCV\n",
        "from scipy import interpolate\n",
        "\n"
      ],
      "execution_count": 0,
      "outputs": []
    },
    {
      "cell_type": "code",
      "metadata": {
        "id": "rmvfI2bKzZDJ",
        "colab_type": "code",
        "colab": {}
      },
      "source": [
        "#read zip train and test data set from zip Archive\n",
        "PATH_DATA= \"./drive/My Drive/covid/\"\n",
        "fileNameZip = 'covid19-global-forecasting-week-3.zip'\n",
        "archiveName = \"%s%s\"%(PATH_DATA,fileNameZip)\n",
        "trainName= 'train.csv'\n",
        "testName = 'test.csv'\n",
        "submissionNane = 'submission.csv'\n",
        "if zipfile.is_zipfile(archiveName):\n",
        "  with zipfile.ZipFile(archiveName) as archive:\n",
        "    dfTrain = pd.read_csv(archive.open(trainName,'r')).\\\n",
        "      rename(columns={\"Country/Region\":\"Country_Region\",\n",
        "                      \"Province/State\":\"Province_State\"})\n",
        "      \n",
        "    dfTest  = pd.read_csv(archive.open(testName,'r')).\\\n",
        "      rename(columns={\"Country/Region\":\"Country_Region\",\n",
        "                      \"Province/State\":\"Province_State\"})\n",
        "    dfSubmission  = pd.read_csv(archive.open(submissionNane,'r'))"
      ],
      "execution_count": 0,
      "outputs": []
    },
    {
      "cell_type": "code",
      "metadata": {
        "id": "Yk-DfjL20XZg",
        "colab_type": "code",
        "colab": {}
      },
      "source": [
        "#\n",
        "# Replace Province_State by None\n",
        "#\n",
        "dfTrain.replace(to_replace = np.nan, value ='none', inplace  =True)\n",
        "dfTest.replace(to_replace = np.nan, value ='none', inplace  =True)\n",
        "dfTrain['Date'] = pd.to_datetime(dfTrain['Date'])\n",
        "dfTest['Date'] = pd.to_datetime(dfTest['Date'])\n"
      ],
      "execution_count": 0,
      "outputs": []
    },
    {
      "cell_type": "code",
      "metadata": {
        "id": "0mLzY-7Uf0fe",
        "colab_type": "code",
        "outputId": "63bf31ad-6a18-4efa-8af6-5c94450f23dd",
        "colab": {
          "base_uri": "https://localhost:8080/",
          "height": 35
        }
      },
      "source": [
        "dfTrain.Date.max()"
      ],
      "execution_count": 5,
      "outputs": [
        {
          "output_type": "execute_result",
          "data": {
            "text/plain": [
              "Timestamp('2020-03-30 00:00:00')"
            ]
          },
          "metadata": {
            "tags": []
          },
          "execution_count": 5
        }
      ]
    },
    {
      "cell_type": "code",
      "metadata": {
        "id": "qAYvQpho1b5m",
        "colab_type": "code",
        "outputId": "c1df1cb4-37bf-4fed-ae54-96624cfe3fc2",
        "colab": {
          "base_uri": "https://localhost:8080/",
          "height": 35
        }
      },
      "source": [
        "from google.colab import drive\n",
        "drive.mount('/content/drive')"
      ],
      "execution_count": 37,
      "outputs": [
        {
          "output_type": "stream",
          "text": [
            "Drive already mounted at /content/drive; to attempt to forcibly remount, call drive.mount(\"/content/drive\", force_remount=True).\n"
          ],
          "name": "stdout"
        }
      ]
    },
    {
      "cell_type": "code",
      "metadata": {
        "id": "2nBWeIdizfeA",
        "colab_type": "code",
        "colab": {}
      },
      "source": [
        "#\n",
        "# Create features per country\n",
        "#\n",
        "startFatalityThreshold = 5\n",
        "def aggByCountry(x):\n",
        "\n",
        "  dfResult = pd.DataFrame({'Fatalities': [np.sum(x.Fatalities.values)], \n",
        "                           'ConfirmedCases' : [np.sum(x.ConfirmedCases.values)]})\n",
        "  return dfResult\n",
        "\n",
        "dfTrainAgg = dfTrain.groupby([\"Country_Region\",\"Date\"]).apply(aggByCountry)\\\n",
        "       .reset_index()\\\n",
        "       .drop(columns =['level_2'])"
      ],
      "execution_count": 0,
      "outputs": []
    },
    {
      "cell_type": "code",
      "metadata": {
        "id": "EbEJXgVWhtMT",
        "colab_type": "code",
        "outputId": "12e73fdb-785c-45c9-98f4-29c557eb1a03",
        "colab": {
          "base_uri": "https://localhost:8080/",
          "height": 1000
        }
      },
      "source": [
        "#\n",
        "# Remove Countries with max fatalities < Level\n",
        "#\n",
        "startFatalityThreshold = 5\n",
        "def removeCountry(x):\n",
        "  max_Fatalities = np.sum(x.Fatalities.values)\n",
        "  print ('%s : %s %s'%(x.Country_Region.iloc[0],max_Fatalities,(max_Fatalities <= startFatalityThreshold) ))\n",
        "  x['removed'] = (max_Fatalities <= startFatalityThreshold)\n",
        "  return x\n",
        "df1 = dfTrainAgg.groupby([\"Country_Region\"]).apply(removeCountry)\n",
        "mask = df1[df1.removed == True].index\n",
        "dfTrainClean = df1.drop(mask)"
      ],
      "execution_count": 7,
      "outputs": [
        {
          "output_type": "stream",
          "text": [
            "Afghanistan : 25.0 False\n",
            "Albania : 76.0 False\n",
            "Algeria : 280.0 False\n",
            "Andorra : 27.0 False\n",
            "Angola : 4.0 True\n",
            "Antigua and Barbuda : 0.0 True\n",
            "Argentina : 131.0 False\n",
            "Armenia : 9.0 False\n",
            "Australia : 172.0 False\n",
            "Austria : 498.0 False\n",
            "Azerbaijan : 32.0 False\n",
            "Bahamas : 0.0 True\n",
            "Bahrain : 37.0 False\n",
            "Bangladesh : 44.0 False\n",
            "Barbados : 0.0 True\n",
            "Belarus : 0.0 True\n",
            "Belgium : 2440.0 False\n",
            "Belize : 0.0 True\n",
            "Benin : 0.0 True\n",
            "Bhutan : 0.0 True\n",
            "Bolivia : 5.0 True\n",
            "Bosnia and Herzegovina : 37.0 False\n",
            "Brazil : 775.0 False\n",
            "Brunei : 3.0 True\n",
            "Bulgaria : 63.0 False\n",
            "Burkina Faso : 72.0 False\n",
            "Cabo Verde : 7.0 False\n",
            "Cambodia : 0.0 True\n",
            "Cameroon : 18.0 False\n",
            "Canada : 454.0 False\n",
            "Central African Republic : 0.0 True\n",
            "Chad : 0.0 True\n",
            "Chile : 38.0 False\n",
            "China : 142485.0 False\n",
            "Colombia : 52.0 False\n",
            "Congo (Brazzaville) : 0.0 True\n",
            "Congo (Kinshasa) : 33.0 False\n",
            "Costa Rica : 22.0 False\n",
            "Cote d'Ivoire : 2.0 True\n",
            "Croatia : 30.0 False\n",
            "Cuba : 22.0 False\n",
            "Cyprus : 33.0 False\n",
            "Czechia : 79.0 False\n",
            "Denmark : 452.0 False\n",
            "Diamond Princess : 259.0 False\n",
            "Djibouti : 0.0 True\n",
            "Dominica : 0.0 True\n",
            "Dominican Republic : 169.0 False\n",
            "Ecuador : 348.0 False\n",
            "Egypt : 292.0 False\n",
            "El Salvador : 0.0 True\n",
            "Equatorial Guinea : 0.0 True\n",
            "Eritrea : 0.0 True\n",
            "Estonia : 10.0 False\n",
            "Eswatini : 0.0 True\n",
            "Ethiopia : 0.0 True\n",
            "Fiji : 0.0 True\n",
            "Finland : 52.0 False\n",
            "France : 17817.0 False\n",
            "Gabon : 11.0 False\n",
            "Gambia : 8.0 False\n",
            "Georgia : 0.0 True\n",
            "Germany : 3101.0 False\n",
            "Ghana : 33.0 False\n",
            "Greece : 290.0 False\n",
            "Grenada : 0.0 True\n",
            "Guatemala : 15.0 False\n",
            "Guinea : 0.0 True\n",
            "Guinea-Bissau : 0.0 True\n",
            "Guyana : 19.0 False\n",
            "Haiti : 0.0 True\n",
            "Holy See : 0.0 True\n",
            "Honduras : 13.0 False\n",
            "Hungary : 103.0 False\n",
            "Iceland : 25.0 False\n",
            "India : 191.0 False\n",
            "Indonesia : 853.0 False\n",
            "Iran : 31473.0 False\n",
            "Iraq : 459.0 False\n",
            "Ireland : 225.0 False\n",
            "Israel : 74.0 False\n",
            "Italy : 104101.0 False\n",
            "Jamaica : 12.0 False\n",
            "Japan : 799.0 False\n",
            "Jordan : 10.0 False\n",
            "Kazakhstan : 8.0 False\n",
            "Kenya : 5.0 True\n",
            "Korea, South : 2527.0 False\n",
            "Kuwait : 0.0 True\n",
            "Kyrgyzstan : 0.0 True\n",
            "Laos : 0.0 True\n",
            "Latvia : 0.0 True\n",
            "Lebanon : 98.0 False\n",
            "Liberia : 0.0 True\n",
            "Libya : 0.0 True\n",
            "Liechtenstein : 0.0 True\n",
            "Lithuania : 39.0 False\n",
            "Luxembourg : 139.0 False\n",
            "Madagascar : 0.0 True\n",
            "Malaysia : 221.0 False\n",
            "Maldives : 0.0 True\n",
            "Mali : 3.0 True\n",
            "Malta : 0.0 True\n",
            "Mauritania : 1.0 True\n",
            "Mauritius : 21.0 False\n",
            "Mexico : 80.0 False\n",
            "Moldova : 17.0 False\n",
            "Monaco : 2.0 True\n",
            "Mongolia : 0.0 True\n",
            "Montenegro : 8.0 False\n",
            "Morocco : 156.0 False\n",
            "Mozambique : 0.0 True\n",
            "Namibia : 0.0 True\n",
            "Nepal : 0.0 True\n",
            "Netherlands : 4797.0 False\n",
            "New Zealand : 2.0 True\n",
            "Nicaragua : 4.0 True\n",
            "Niger : 8.0 False\n",
            "Nigeria : 9.0 False\n",
            "North Macedonia : 31.0 False\n",
            "Norway : 195.0 False\n",
            "Oman : 0.0 True\n",
            "Pakistan : 101.0 False\n",
            "Panama : 106.0 False\n",
            "Papua New Guinea : 0.0 True\n",
            "Paraguay : 23.0 False\n",
            "Peru : 112.0 False\n",
            "Philippines : 609.0 False\n",
            "Poland : 180.0 False\n",
            "Portugal : 632.0 False\n",
            "Qatar : 3.0 True\n",
            "Romania : 232.0 False\n",
            "Russia : 37.0 False\n",
            "Rwanda : 0.0 True\n",
            "Saint Kitts and Nevis : 0.0 True\n",
            "Saint Lucia : 0.0 True\n",
            "Saint Vincent and the Grenadines : 0.0 True\n",
            "San Marino : 292.0 False\n",
            "Saudi Arabia : 29.0 False\n",
            "Senegal : 0.0 True\n",
            "Serbia : 55.0 False\n",
            "Seychelles : 0.0 True\n",
            "Singapore : 22.0 False\n",
            "Slovakia : 4.0 True\n",
            "Slovenia : 68.0 False\n",
            "Somalia : 0.0 True\n",
            "South Africa : 7.0 False\n",
            "Spain : 46115.0 False\n",
            "Sri Lanka : 4.0 True\n",
            "Sudan : 19.0 False\n",
            "Suriname : 0.0 True\n",
            "Sweden : 765.0 False\n",
            "Switzerland : 2133.0 False\n",
            "Syria : 3.0 True\n",
            "Taiwan* : 58.0 False\n",
            "Tanzania : 0.0 True\n",
            "Thailand : 62.0 False\n",
            "Timor-Leste : 0.0 True\n",
            "Togo : 4.0 True\n",
            "Trinidad and Tobago : 13.0 False\n",
            "Tunisia : 54.0 False\n",
            "Turkey : 762.0 False\n",
            "US : 14201.0 False\n",
            "Uganda : 0.0 True\n",
            "Ukraine : 72.0 False\n",
            "United Arab Emirates : 26.0 False\n",
            "United Kingdom : 7329.0 False\n",
            "Uruguay : 2.0 True\n",
            "Uzbekistan : 7.0 False\n",
            "Venezuela : 8.0 False\n",
            "Vietnam : 0.0 True\n",
            "Zambia : 0.0 True\n",
            "Zimbabwe : 8.0 False\n"
          ],
          "name": "stdout"
        }
      ]
    },
    {
      "cell_type": "code",
      "metadata": {
        "id": "wM_lsdhFjOic",
        "colab_type": "code",
        "colab": {}
      },
      "source": [
        "#\n",
        "# Remove entries with fatalities < max Fatalities\n",
        "#\n",
        "mask = dfTrainClean[dfTrainClean.Fatalities < startFatalityThreshold].index\n",
        "dfTrainClean2 = dfTrainClean.drop(mask)\n"
      ],
      "execution_count": 0,
      "outputs": []
    },
    {
      "cell_type": "code",
      "metadata": {
        "id": "tk68OY9lq2Z0",
        "colab_type": "code",
        "outputId": "ff3f405a-3c9f-4b24-f84c-6118b6eda772",
        "colab": {
          "base_uri": "https://localhost:8080/",
          "height": 312
        }
      },
      "source": [
        "fig,ax = plt.subplots()\n",
        "x = dfTrainClean2.Fatalities\n",
        "y = dfTrainClean2.ConfirmedCases\n",
        "ax.set_xlim([-1,25])\n",
        "ax.set_ylim([0,500])\n",
        "ax.scatter(x,y)\n",
        "ax.grid()\n",
        "ax.set_xlabel('Fatalities')\n",
        "ax.set_ylabel('ConfirmedCases')\n",
        "ax.set_title('at Country Level : AsOfDate %s'%dfTrainClean2.Date.max())\n"
      ],
      "execution_count": 9,
      "outputs": [
        {
          "output_type": "execute_result",
          "data": {
            "text/plain": [
              "Text(0.5, 1.0, 'at Country Level : AsOfDate 2020-03-30 00:00:00')"
            ]
          },
          "metadata": {
            "tags": []
          },
          "execution_count": 9
        },
        {
          "output_type": "display_data",
          "data": {
            "image/png": "[encoded data removed]",
            "text/plain": [
              "<Figure size 432x288 with 1 Axes>"
            ]
          },
          "metadata": {
            "tags": []
          }
        }
      ]
    },
    {
      "cell_type": "code",
      "metadata": {
        "id": "5ur7dhG-qTcD",
        "colab_type": "code",
        "outputId": "8697fc98-7fcd-423e-9d84-d36b473bc1c6",
        "colab": {
          "base_uri": "https://localhost:8080/",
          "height": 124
        }
      },
      "source": [
        "dfTrainClean.index\n"
      ],
      "execution_count": 0,
      "outputs": [
        {
          "output_type": "execute_result",
          "data": {
            "text/plain": [
              "Int64Index([   64,    65,    66,    67,    68,    69,    70,    71,    72,\n",
              "               73,\n",
              "            ...\n",
              "            18422, 18423, 18424, 18425, 18426, 18427, 18428, 18429, 18430,\n",
              "            18431],\n",
              "           dtype='int64', length=13120)"
            ]
          },
          "metadata": {
            "tags": []
          },
          "execution_count": 72
        }
      ]
    },
    {
      "cell_type": "code",
      "metadata": {
        "id": "inOqhVQpexre",
        "colab_type": "code",
        "colab": {}
      },
      "source": [
        "dfTrainClean2.head()"
      ],
      "execution_count": 0,
      "outputs": []
    },
    {
      "cell_type": "code",
      "metadata": {
        "id": "EYL0ju_5giox",
        "colab_type": "code",
        "outputId": "9787492a-7afe-4ccc-8bbd-ef77fb03c4d1",
        "colab": {
          "base_uri": "https://localhost:8080/",
          "height": 35
        }
      },
      "source": [
        "dfTrainClean2.columns"
      ],
      "execution_count": 0,
      "outputs": [
        {
          "output_type": "execute_result",
          "data": {
            "text/plain": [
              "Index(['Country_Region', 'Date', 'Fatalities', 'ConfirmedCases', 'removed'], dtype='object')"
            ]
          },
          "metadata": {
            "tags": []
          },
          "execution_count": 120
        }
      ]
    },
    {
      "cell_type": "code",
      "metadata": {
        "id": "HUY9UhmiXC_F",
        "colab_type": "code",
        "outputId": "49287e54-7727-4964-8d1e-e7d3536c6751",
        "colab": {
          "base_uri": "https://localhost:8080/",
          "height": 1000
        }
      },
      "source": [
        "#\n",
        "# Make logarithm features and log difference par country & province\n",
        "#\n",
        "def log_corrected(x):\n",
        "  y = np.log(x)\n",
        "  y[y == -np.inf] = 0.\n",
        "  return y\n",
        "\n",
        "def makeLogFeatures(df):\n",
        "  print ('processing ..%s '%(df.Country_Region.iloc[0]))\n",
        "  df['log_Fatalities'] = log_corrected(df.Fatalities)\n",
        "  df['log_ConfirmedCases'] = log_corrected(df.ConfirmedCases)\n",
        "\n",
        "  df['diff_log_Fatalities'] = df['log_Fatalities'].diff(3).fillna(value = 0.)\n",
        "  df['diff_log_ConfirmedCases'] = df['log_ConfirmedCases'].diff(3).fillna(value = 0.)\n",
        "\n",
        "  return df\n",
        "dfTrainFeatures = dfTrainClean2.groupby([\"Country_Region\"]).apply(makeLogFeatures)"
      ],
      "execution_count": 28,
      "outputs": [
        {
          "output_type": "stream",
          "text": [
            "processing ..Albania \n",
            "processing ..Algeria \n",
            "processing ..Andorra \n",
            "processing ..Argentina \n",
            "processing ..Australia \n",
            "processing ..Austria \n",
            "processing ..Bangladesh \n",
            "processing ..Belgium \n",
            "processing ..Bosnia and Herzegovina \n",
            "processing ..Brazil \n",
            "processing ..Bulgaria \n",
            "processing ..Burkina Faso \n",
            "processing ..Cameroon \n",
            "processing ..Canada \n",
            "processing ..Chile \n",
            "processing ..China \n",
            "processing ..Colombia \n",
            "processing ..Congo (Kinshasa) \n",
            "processing ..Croatia \n",
            "processing ..Cyprus \n",
            "processing ..Czechia \n",
            "processing ..Denmark \n",
            "processing ..Diamond Princess \n",
            "processing ..Dominican Republic \n",
            "processing ..Ecuador \n",
            "processing ..Egypt \n",
            "processing ..Finland \n",
            "processing ..France \n",
            "processing ..Germany \n",
            "processing ..Ghana \n",
            "processing ..Greece \n",
            "processing ..Honduras \n",
            "processing ..Hungary \n",
            "processing ..Iceland \n",
            "processing ..India \n",
            "processing ..Indonesia \n",
            "processing ..Iran \n",
            "processing ..Iraq \n",
            "processing ..Ireland \n",
            "processing ..Israel \n",
            "processing ..Italy \n",
            "processing ..Japan \n",
            "processing ..Jordan \n",
            "processing ..Korea, South \n",
            "processing ..Lebanon \n",
            "processing ..Lithuania \n",
            "processing ..Luxembourg \n",
            "processing ..Malaysia \n",
            "processing ..Mexico \n",
            "processing ..Morocco \n",
            "processing ..Netherlands \n",
            "processing ..North Macedonia \n",
            "processing ..Norway \n",
            "processing ..Pakistan \n",
            "processing ..Panama \n",
            "processing ..Peru \n",
            "processing ..Philippines \n",
            "processing ..Poland \n",
            "processing ..Portugal \n",
            "processing ..Romania \n",
            "processing ..Russia \n",
            "processing ..San Marino \n",
            "processing ..Saudi Arabia \n",
            "processing ..Serbia \n",
            "processing ..Slovenia \n",
            "processing ..Spain \n",
            "processing ..Sweden \n",
            "processing ..Switzerland \n",
            "processing ..Taiwan* \n",
            "processing ..Thailand \n",
            "processing ..Tunisia \n",
            "processing ..Turkey \n",
            "processing ..US \n",
            "processing ..Ukraine \n",
            "processing ..United Arab Emirates \n",
            "processing ..United Kingdom \n"
          ],
          "name": "stdout"
        }
      ]
    },
    {
      "cell_type": "code",
      "metadata": {
        "id": "C1-As6ImCLha",
        "colab_type": "code",
        "colab": {}
      },
      "source": [
        "#\n",
        "# Make days_from_Fatalities\n",
        "#\n",
        "def calculateThreshold(df):\n",
        "  dateMin = df.Date.min()\n",
        "  if pd.isnull(dateMin):\n",
        "    df['days_from_Fatalities'] = -1000.\n",
        "  else:\n",
        "    df['days_from_Fatalities']= (df.Date - dateMin) / np.timedelta64(1,'D')\n",
        "\n",
        "  return df\n",
        "\n",
        "dfTrainFeatures2 = dfTrainFeatures.groupby([\"Country_Region\"]).apply(calculateThreshold)  "
      ],
      "execution_count": 0,
      "outputs": []
    },
    {
      "cell_type": "code",
      "metadata": {
        "id": "xM6QVMOSChsG",
        "colab_type": "code",
        "outputId": "a9c73625-8238-4e76-d92d-b8cb04ea78e2",
        "colab": {
          "base_uri": "https://localhost:8080/",
          "height": 301
        }
      },
      "source": [
        "dfTrainFeatures2.Country_Region.unique()"
      ],
      "execution_count": 0,
      "outputs": [
        {
          "output_type": "execute_result",
          "data": {
            "text/plain": [
              "array(['Albania', 'Algeria', 'Andorra', 'Argentina', 'Australia',\n",
              "       'Austria', 'Bangladesh', 'Belgium', 'Bosnia and Herzegovina',\n",
              "       'Brazil', 'Bulgaria', 'Burkina Faso', 'Cameroon', 'Canada',\n",
              "       'Chile', 'China', 'Colombia', 'Congo (Kinshasa)', 'Croatia',\n",
              "       'Cyprus', 'Czechia', 'Denmark', 'Diamond Princess',\n",
              "       'Dominican Republic', 'Ecuador', 'Egypt', 'Finland', 'France',\n",
              "       'Germany', 'Ghana', 'Greece', 'Honduras', 'Hungary', 'Iceland',\n",
              "       'India', 'Indonesia', 'Iran', 'Iraq', 'Ireland', 'Israel', 'Italy',\n",
              "       'Japan', 'Jordan', 'Korea, South', 'Lebanon', 'Lithuania',\n",
              "       'Luxembourg', 'Malaysia', 'Mexico', 'Morocco', 'Netherlands',\n",
              "       'North Macedonia', 'Norway', 'Pakistan', 'Panama', 'Peru',\n",
              "       'Philippines', 'Poland', 'Portugal', 'Romania', 'Russia',\n",
              "       'San Marino', 'Saudi Arabia', 'Serbia', 'Slovenia', 'Spain',\n",
              "       'Sweden', 'Switzerland', 'Taiwan*', 'Thailand', 'Tunisia',\n",
              "       'Turkey', 'US', 'Ukraine', 'United Arab Emirates',\n",
              "       'United Kingdom'], dtype=object)"
            ]
          },
          "metadata": {
            "tags": []
          },
          "execution_count": 22
        }
      ]
    },
    {
      "cell_type": "code",
      "metadata": {
        "id": "fClVTQ_eMQOc",
        "colab_type": "code",
        "colab": {}
      },
      "source": [
        ""
      ],
      "execution_count": 0,
      "outputs": []
    },
    {
      "cell_type": "code",
      "metadata": {
        "id": "pxJF091lzkDl",
        "colab_type": "code",
        "colab": {}
      },
      "source": [
        "#\n",
        "# Create Forecast features and outputs \n",
        "#\n",
        "def createShiftedFeature(df):\n",
        "  df['diff_log_Fatalities_1'] = df.diff_log_Fatalities.shift(1)\n",
        "  df['diff_log_Fatalities_3'] = df.diff_log_Fatalities.shift(3)\n",
        "  df['diff_log_Fatalities_5'] = df.diff_log_Fatalities.shift(5)\n",
        "# Output  \n",
        "  df['diff_log_Fatalities_p1'] = df.diff_log_Fatalities.shift(-1)\n",
        "  df['diff_log_Fatalities_p3'] = df.diff_log_Fatalities.shift(-3)\n",
        "  df['diff_log_Fatalities_p5'] = df.diff_log_Fatalities.shift(-5)\n",
        "  df['diff_log_Fatalities_p21'] = df.diff_log_Fatalities.shift(-21)\n",
        "\n",
        "  df['diff_log_Confirmed_1'] = df.diff_log_ConfirmedCases.shift(1)\n",
        "  df['diff_log_Confirmed_3'] = df.diff_log_ConfirmedCases.shift(3)\n",
        "  df['diff_log_Confirmed_5'] = df.diff_log_ConfirmedCases.shift(5)\n",
        "# Output\n",
        "  df['diff_log_Confirmed_p1'] = df.diff_log_ConfirmedCases.shift(-1)\n",
        "  df['diff_log_Confirmed_p3'] = df.diff_log_ConfirmedCases.shift(-3)\n",
        "  df['diff_log_Confirmed_p5'] = df.diff_log_ConfirmedCases.shift(-5)\n",
        "  df['diff_log_Confirmed_p21'] = df.diff_log_ConfirmedCases.shift(-21)\n",
        "\n",
        "  return df\n",
        "\n",
        "df2 = dfTrainFeatures2.groupby([\"Country_Region\"]).apply(createShiftedFeature)\n",
        "dfLast = df2.groupby(['Country_Region']).tail(1).copy()"
      ],
      "execution_count": 0,
      "outputs": []
    },
    {
      "cell_type": "code",
      "metadata": {
        "id": "Bx8xETFlDdSy",
        "colab_type": "code",
        "outputId": "630bcc92-25c7-4759-b40b-991861191276",
        "colab": {
          "base_uri": "https://localhost:8080/",
          "height": 265
        }
      },
      "source": [
        "dfTestCntry = df2[(df2.Country_Region == 'France')]\n",
        "fig,ax = plt.subplots()\n",
        "x =dfTestCntry.diff_log_Fatalities_1\n",
        "y= dfTestCntry.diff_log_Fatalities_p1\n",
        "ax.scatter(x,y)\n",
        "ax.grid()\n",
        "fig.show()"
      ],
      "execution_count": 31,
      "outputs": [
        {
          "output_type": "display_data",
          "data": {
            "image/png": "[encoded data removed]",
            "text/plain": [
              "<Figure size 432x288 with 1 Axes>"
            ]
          },
          "metadata": {
            "tags": []
          }
        }
      ]
    },
    {
      "cell_type": "code",
      "metadata": {
        "id": "DRGCDPZNEE_F",
        "colab_type": "code",
        "outputId": "de9ea432-16af-444b-9b0d-9460bbc06004",
        "colab": {
          "base_uri": "https://localhost:8080/",
          "height": 295
        }
      },
      "source": [
        "Cntry = 'France'\n",
        "dfTestCntry = df2[(df2.Country_Region == Cntry)]\n",
        "fig,ax1 = plt.subplots()\n",
        "x =dfTestCntry.days_from_Fatalities\n",
        "y= dfTestCntry.diff_log_ConfirmedCases\n",
        "ax1.plot(x,y, label = 'ConfirmedCases')\n",
        "y1 = dfTestCntry.diff_log_Fatalities\n",
        "ax1.plot(x,y1, label = 'Fatalities')\n",
        "ax1.grid()\n",
        "ax1.set_title('%s Rate as of %s'%(Cntry,dfTestCntry.Date.max()))\n",
        "ax1.legend()\n",
        "ax1.set_xlabel('days from 5 Fatalities')\n",
        "ax1.set_ylabel('2 Days Log Rate')\n",
        "ax2 = ax1.twinx()\n",
        "y2 = dfTestCntry.Fatalities\n",
        "ax2.plot(x, y2, 'g-')\n",
        "ax2.set_yscale('log')\n",
        "ax2.set_ylabel('Fatalities')\n",
        "fig.show()"
      ],
      "execution_count": 32,
      "outputs": [
        {
          "output_type": "display_data",
          "data": {
            "image/png": "[encoded data removed]",
            "text/plain": [
              "<Figure size 432x288 with 2 Axes>"
            ]
          },
          "metadata": {
            "tags": []
          }
        }
      ]
    },
    {
      "cell_type": "code",
      "metadata": {
        "id": "VKrvL68wMKjl",
        "colab_type": "code",
        "outputId": "fbfbbfba-1ca1-4f5a-bd7f-edc366c045bf",
        "colab": {
          "base_uri": "https://localhost:8080/",
          "height": 109
        }
      },
      "source": [
        "\n",
        "dfTestCntry = df2[(df2.Country_Region == 'China')]\n",
        "dfTestCntry[['diff_log_Fatalities','diff_log_Fatalities_p1']].corr()\n",
        "\n",
        "\n"
      ],
      "execution_count": 33,
      "outputs": [
        {
          "output_type": "execute_result",
          "data": {
            "text/html": [
              "<div>\n",
              "<style scoped>\n",
              "    .dataframe tbody tr th:only-of-type {\n",
              "        vertical-align: middle;\n",
              "    }\n",
              "\n",
              "    .dataframe tbody tr th {\n",
              "        vertical-align: top;\n",
              "    }\n",
              "\n",
              "    .dataframe thead th {\n",
              "        text-align: right;\n",
              "    }\n",
              "</style>\n",
              "<table border=\"1\" class=\"dataframe\">\n",
              "  <thead>\n",
              "    <tr style=\"text-align: right;\">\n",
              "      <th></th>\n",
              "      <th>diff_log_Fatalities</th>\n",
              "      <th>diff_log_Fatalities_p1</th>\n",
              "    </tr>\n",
              "  </thead>\n",
              "  <tbody>\n",
              "    <tr>\n",
              "      <th>diff_log_Fatalities</th>\n",
              "      <td>1.00000</td>\n",
              "      <td>0.90701</td>\n",
              "    </tr>\n",
              "    <tr>\n",
              "      <th>diff_log_Fatalities_p1</th>\n",
              "      <td>0.90701</td>\n",
              "      <td>1.00000</td>\n",
              "    </tr>\n",
              "  </tbody>\n",
              "</table>\n",
              "</div>"
            ],
            "text/plain": [
              "                        diff_log_Fatalities  diff_log_Fatalities_p1\n",
              "diff_log_Fatalities                 1.00000                 0.90701\n",
              "diff_log_Fatalities_p1              0.90701                 1.00000"
            ]
          },
          "metadata": {
            "tags": []
          },
          "execution_count": 33
        }
      ]
    },
    {
      "cell_type": "code",
      "metadata": {
        "id": "drSU_L2wuGgc",
        "colab_type": "code",
        "outputId": "a14ab601-0921-42f5-d733-c6d6f34923b5",
        "colab": {
          "base_uri": "https://localhost:8080/",
          "height": 124
        }
      },
      "source": [
        "df2[df2.Country_Region == 'China'].Province_State.unique()"
      ],
      "execution_count": 0,
      "outputs": [
        {
          "output_type": "execute_result",
          "data": {
            "text/plain": [
              "array(['Anhui', 'Beijing', 'Chongqing', 'Fujian', 'Gansu', 'Guangdong',\n",
              "       'Guangxi', 'Guizhou', 'Hainan', 'Hebei', 'Heilongjiang', 'Henan',\n",
              "       'Hong Kong', 'Hubei', 'Hunan', 'Inner Mongolia', 'Jiangsu',\n",
              "       'Jiangxi', 'Jilin', 'Liaoning', 'Macau', 'Ningxia', 'Qinghai',\n",
              "       'Shaanxi', 'Shandong', 'Shanghai', 'Shanxi', 'Sichuan', 'Tianjin',\n",
              "       'Tibet', 'Xinjiang', 'Yunnan', 'Zhejiang'], dtype=object)"
            ]
          },
          "metadata": {
            "tags": []
          },
          "execution_count": 102
        }
      ]
    },
    {
      "cell_type": "code",
      "metadata": {
        "id": "jT_uLEB5n9oa",
        "colab_type": "code",
        "outputId": "12118b45-617c-48f3-f415-63bc313a6907",
        "colab": {
          "base_uri": "https://localhost:8080/",
          "height": 212
        }
      },
      "source": [
        "df2.columns"
      ],
      "execution_count": 0,
      "outputs": [
        {
          "output_type": "execute_result",
          "data": {
            "text/plain": [
              "Index(['Country_Region', 'Date', 'Fatalities', 'ConfirmedCases', 'removed',\n",
              "       'log_Fatalities', 'log_ConfirmedCases', 'diff_log_Fatalities',\n",
              "       'diff_log_ConfirmedCases', 'days_from_Fatalities',\n",
              "       'diff_log_Fatalities_1', 'diff_log_Fatalities_3',\n",
              "       'diff_log_Fatalities_5', 'diff_log_Fatalities_p1',\n",
              "       'diff_log_Fatalities_p3', 'diff_log_Fatalities_p5',\n",
              "       'diff_log_Fatalities_p21', 'diff_log_Confirmed_1',\n",
              "       'diff_log_Confirmed_3', 'diff_log_Confirmed_5', 'diff_log_Confirmed_p1',\n",
              "       'diff_log_Confirmed_p3', 'diff_log_Confirmed_p5',\n",
              "       'diff_log_Confirmed_p21'],\n",
              "      dtype='object')"
            ]
          },
          "metadata": {
            "tags": []
          },
          "execution_count": 43
        }
      ]
    },
    {
      "cell_type": "code",
      "metadata": {
        "id": "GwoN6TY72_2t",
        "colab_type": "code",
        "colab": {}
      },
      "source": [
        "#\n",
        "# Test a multi-regression\n",
        "#\n",
        "\n",
        "#                      'diff_log_Fatalities_1',\n",
        "#                      'diff_log_Fatalities_3',\n",
        "#                      'diff_log_Fatalities_5',\n",
        "#                      'diff_log_Confirmed_1',\n",
        "#                      'diff_log_Confirmed_3',\n",
        "#                      'diff_log_Confirmed_5'\n",
        "numeric_features = ['diff_log_Fatalities', \n",
        "                      'diff_log_ConfirmedCases',\n",
        "                    'diff_log_Fatalities_1',\n",
        "                    'diff_log_Fatalities_3',\n",
        "                   'diff_log_Confirmed_5' ]\n",
        "\n",
        "categorical_features = ['Country_Region']\n",
        "features = numeric_features + categorical_features\n",
        "\n",
        "def modelPrediction(model_forecast):\n",
        "  numeric_transformer = Pipeline(steps=[\n",
        "      ('imputer', SimpleImputer(strategy='median')),\n",
        "      ('scaler', StandardScaler())])\n",
        "\n",
        "\n",
        "  categorical_transformer = Pipeline(steps=[\n",
        "      ('imputer', SimpleImputer(strategy='constant', fill_value='missing')),\n",
        "      ('onehot', OneHotEncoder(handle_unknown='ignore', sparse = True))])\n",
        "\n",
        "  preprocessor = ColumnTransformer(\n",
        "      transformers=[\n",
        "          ('num', numeric_transformer, numeric_features),\n",
        "          ('cat', categorical_transformer, categorical_features)])\n",
        "\n",
        "  # Append classifier to preprocessing pipeline.\n",
        "  # Now we have a full prediction pipeline.\n",
        "  clf = Pipeline(steps=[('preprocessor', preprocessor),\n",
        "                        ('classifier', RandomForestRegressor(n_estimators = 200, max_depth= 100))])\n",
        "\n",
        "#removed na_values\n",
        "  df3 = df2.dropna(subset=features + [model_forecast])\n",
        "\n",
        "  X_train, X_test, y_train, y_test = train_test_split(df3[features], df3[model_forecast], test_size=0.2)\n",
        "\n",
        "  clf.fit(X_train, y_train)\n",
        "  print(\"model score: %.3f\" % clf.score(X_test, y_test))\n",
        "  return clf\n",
        "  \n"
      ],
      "execution_count": 0,
      "outputs": []
    },
    {
      "cell_type": "code",
      "metadata": {
        "id": "shM3jg04_4oN",
        "colab_type": "code",
        "outputId": "fb361df7-0e8f-4c7e-c6ff-1f1185b10772",
        "colab": {
          "base_uri": "https://localhost:8080/",
          "height": 301
        }
      },
      "source": [
        "model_forecasts = ['diff_log_Fatalities_p1','diff_log_Fatalities_p3','diff_log_Fatalities_p5', 'diff_log_Fatalities_p21',\n",
        "                   'diff_log_Confirmed_p1','diff_log_Confirmed_p3','diff_log_Confirmed_p5','diff_log_Confirmed_p21']\n",
        "#model_forecasts = ['diff_log_Fatalities_p21']\n",
        "#clf = modelPrediction(model_forecasts)\n",
        "dfPredict = dfLast[['Country_Region','Date']].copy()\n",
        "for model_forecast in model_forecasts:\n",
        "  print ('processing ... %s'%model_forecast)\n",
        "  dfPredict[model_forecast] = modelPrediction(model_forecast).predict(dfLast[features])"
      ],
      "execution_count": 35,
      "outputs": [
        {
          "output_type": "stream",
          "text": [
            "processing ... diff_log_Fatalities_p1\n",
            "model score: 0.645\n",
            "processing ... diff_log_Fatalities_p3\n",
            "model score: 0.631\n",
            "processing ... diff_log_Fatalities_p5\n",
            "model score: 0.634\n",
            "processing ... diff_log_Fatalities_p21\n",
            "model score: 0.829\n",
            "processing ... diff_log_Confirmed_p1\n",
            "model score: 0.899\n",
            "processing ... diff_log_Confirmed_p3\n",
            "model score: 0.815\n",
            "processing ... diff_log_Confirmed_p5\n",
            "model score: 0.739\n",
            "processing ... diff_log_Confirmed_p21\n",
            "model score: 0.933\n"
          ],
          "name": "stdout"
        }
      ]
    },
    {
      "cell_type": "code",
      "metadata": {
        "id": "dnr5geizryJS",
        "colab_type": "code",
        "outputId": "3f64506c-5b35-4729-9daa-6fa80257a0b9",
        "colab": {
          "base_uri": "https://localhost:8080/",
          "height": 115
        }
      },
      "source": [
        "#dfPredict = dfLast[['Country_Region','Province_State','Date']].copy()\n",
        "#dfResult = pd.DataFrame(data = clf.predict(dfLast[features]), index = dfPredict.index, columns = model_forecasts)\n",
        "#df4 = dfPredict.merge(right = dfPredict, left_index = True, right_index= True)\n",
        "#df4[df4.Country_Region == 'Spain']\n",
        "dfPredict[dfPredict.Country_Region == 'France'].tail()"
      ],
      "execution_count": 36,
      "outputs": [
        {
          "output_type": "execute_result",
          "data": {
            "text/html": [
              "<div>\n",
              "<style scoped>\n",
              "    .dataframe tbody tr th:only-of-type {\n",
              "        vertical-align: middle;\n",
              "    }\n",
              "\n",
              "    .dataframe tbody tr th {\n",
              "        vertical-align: top;\n",
              "    }\n",
              "\n",
              "    .dataframe thead th {\n",
              "        text-align: right;\n",
              "    }\n",
              "</style>\n",
              "<table border=\"1\" class=\"dataframe\">\n",
              "  <thead>\n",
              "    <tr style=\"text-align: right;\">\n",
              "      <th></th>\n",
              "      <th>Country_Region</th>\n",
              "      <th>Date</th>\n",
              "      <th>diff_log_Fatalities_p1</th>\n",
              "      <th>diff_log_Fatalities_p3</th>\n",
              "      <th>diff_log_Fatalities_p5</th>\n",
              "      <th>diff_log_Fatalities_p21</th>\n",
              "      <th>diff_log_Confirmed_p1</th>\n",
              "      <th>diff_log_Confirmed_p3</th>\n",
              "      <th>diff_log_Confirmed_p5</th>\n",
              "      <th>diff_log_Confirmed_p21</th>\n",
              "    </tr>\n",
              "  </thead>\n",
              "  <tbody>\n",
              "    <tr>\n",
              "      <th>4070</th>\n",
              "      <td>France</td>\n",
              "      <td>2020-03-30</td>\n",
              "      <td>0.39156</td>\n",
              "      <td>0.41921</td>\n",
              "      <td>0.311936</td>\n",
              "      <td>0.145469</td>\n",
              "      <td>0.261949</td>\n",
              "      <td>0.236417</td>\n",
              "      <td>0.220758</td>\n",
              "      <td>0.117308</td>\n",
              "    </tr>\n",
              "  </tbody>\n",
              "</table>\n",
              "</div>"
            ],
            "text/plain": [
              "     Country_Region       Date  ...  diff_log_Confirmed_p5  diff_log_Confirmed_p21\n",
              "4070         France 2020-03-30  ...               0.220758                0.117308\n",
              "\n",
              "[1 rows x 10 columns]"
            ]
          },
          "metadata": {
            "tags": []
          },
          "execution_count": 36
        }
      ]
    },
    {
      "cell_type": "code",
      "metadata": {
        "id": "QtM9nrkf-xae",
        "colab_type": "code",
        "outputId": "97fdade0-cf3e-4578-bde6-8c2e30fe8d09",
        "colab": {
          "base_uri": "https://localhost:8080/",
          "height": 167
        }
      },
      "source": [
        "#\n",
        "# Aggregate with date and dfTest first\n",
        "#\n",
        "df4.head()"
      ],
      "execution_count": 0,
      "outputs": [
        {
          "output_type": "error",
          "ename": "NameError",
          "evalue": "ignored",
          "traceback": [
            "\u001b[0;31m---------------------------------------------------------------------------\u001b[0m",
            "\u001b[0;31mNameError\u001b[0m                                 Traceback (most recent call last)",
            "\u001b[0;32m<ipython-input-49-b9e23aa6db1a>\u001b[0m in \u001b[0;36m<module>\u001b[0;34m()\u001b[0m\n\u001b[0;32m----> 1\u001b[0;31m \u001b[0mdf4\u001b[0m\u001b[0;34m.\u001b[0m\u001b[0mhead\u001b[0m\u001b[0;34m(\u001b[0m\u001b[0;34m)\u001b[0m\u001b[0;34m\u001b[0m\u001b[0;34m\u001b[0m\u001b[0m\n\u001b[0m",
            "\u001b[0;31mNameError\u001b[0m: name 'df4' is not defined"
          ]
        }
      ]
    },
    {
      "cell_type": "code",
      "metadata": {
        "id": "SMfSUYJGsela",
        "colab_type": "code",
        "colab": {}
      },
      "source": [
        "dfPredict.to_csv('%spredict_ml_2.csv'%PATH_DATA, index = False)"
      ],
      "execution_count": 0,
      "outputs": []
    },
    {
      "cell_type": "code",
      "metadata": {
        "id": "zBMFyzXJgWTK",
        "colab_type": "code",
        "colab": {}
      },
      "source": [
        "#\n",
        "# Transforming the results into rows\n",
        "#\n",
        "def aggByColumns(df):\n",
        "  x=pd.DataFrame({'diff_log_Fatalities' : [df.diff_log_Fatalities_p1.iloc[0], df.diff_log_Fatalities_p3.iloc[0],\n",
        "                                  df.diff_log_Fatalities_p5.iloc[0], df.diff_log_Fatalities_p21.iloc[0]], \n",
        "                'diff_log_ConfirmedCases' : [df.diff_log_Confirmed_p1.iloc[0], df.diff_log_Confirmed_p3.iloc[0],\n",
        "                                    df.diff_log_Confirmed_p5.iloc[0], df.diff_log_Confirmed_p21.iloc[0]],\n",
        "                'Date' : [df.Date.iloc[0] + np.timedelta64(1,'D'), df.Date.iloc[0] + np.timedelta64(3,'D'),\n",
        "                         df.Date.iloc[0] + np.timedelta64(5,'D'),\n",
        "                          df.Date.iloc[0] + np.timedelta64(21,'D')]\n",
        "  })\n",
        "  return x\n",
        "\n",
        "dfResult = dfPredict.groupby(['Country_Region']).apply(aggByColumns).reset_index()"
      ],
      "execution_count": 0,
      "outputs": []
    },
    {
      "cell_type": "code",
      "metadata": {
        "id": "qSHdAjp9gpuT",
        "colab_type": "code",
        "colab": {}
      },
      "source": [
        "#\n",
        "# get the output for submission and merge the results\n",
        "#\n",
        "# change rows in test first\n",
        "dfResultAll = dfTest.merge(dfTrainFeatures, left_on=['Country_Region','Province_State','Date'], right_on=['Country_Region','Province_State','Date'], how= 'left')\n",
        "dfResultAllM = dfResultAll.set_index(keys = ['Country_Region','Province_State','Date'])\n",
        "dfResultM = dfResult.set_index(keys = ['Country_Region','Province_State','Date'])\n",
        "dfResultAllM.update(dfResultM[['diff_log_ConfirmedCases','diff_log_Fatalities']])\n",
        "dfResultAllM.reset_index(inplace = True, drop = False)"
      ],
      "execution_count": 0,
      "outputs": []
    },
    {
      "cell_type": "code",
      "metadata": {
        "id": "BgPRL8ApKduw",
        "colab_type": "code",
        "colab": {}
      },
      "source": [
        "#\n",
        "# Fill forward on diff_log_ConfirmedCases and diff_log_Fatalities backwards than forward\n",
        "#\n",
        "dfResultAllM[['diff_log_Fatalities','diff_log_ConfirmedCases']] = dfResultAllM[['diff_log_Fatalities','diff_log_ConfirmedCases']]\\\n",
        ".fillna(method = 'bfill')\\\n",
        ".fillna(method = 'ffill')"
      ],
      "execution_count": 0,
      "outputs": []
    },
    {
      "cell_type": "code",
      "metadata": {
        "id": "_l0OqzWj44CD",
        "colab_type": "code",
        "colab": {}
      },
      "source": [
        "dfResultAllM[dfResultAllM.Country_Region == 'Spain'].tail(20)"
      ],
      "execution_count": 0,
      "outputs": []
    },
    {
      "cell_type": "code",
      "metadata": {
        "id": "NKb_kbyLUjWH",
        "colab_type": "code",
        "colab": {}
      },
      "source": [
        "#\n",
        "# recalculate the ConfirmedCases and Fatalites from diff log\n",
        "#\n",
        "def completionForward(df):\n",
        "  print ('processing ..%s'%df.Country_Region.iloc[0])\n",
        "  cum_Fatalities = np.hstack(([0.], np.cumsum(df.diff_log_Fatalities.iloc[1:])))\n",
        "  df['Fatalities'] = df.Fatalities.iloc[0]*np.exp(cum_Fatalities)\n",
        "  cum_ConfirmedCases = np.hstack(([0.], np.cumsum(df.diff_log_ConfirmedCases.iloc[1:]))) \n",
        "  df['ConfirmedCases'] = df.ConfirmedCases.iloc[0]*np.exp(cum_ConfirmedCases)\n",
        "  return df\n",
        "\n",
        "submission = dfResultAllM.groupby([\"Country_Region\",\"Province_State\"]).apply(completionForward)"
      ],
      "execution_count": 0,
      "outputs": []
    },
    {
      "cell_type": "code",
      "metadata": {
        "id": "Q1SZgUqQWTBu",
        "colab_type": "code",
        "outputId": "f4843499-1944-4865-f557-d8b7999b1f85",
        "colab": {
          "base_uri": "https://localhost:8080/",
          "height": 35
        }
      },
      "source": [
        "\n",
        "submission[['Date','ForecastId','ConfirmedCases','Fatalities']].to_csv('%ssubmission.csv'%PATH_DATA)\n",
        "\n",
        "print ('Success Finished')\n",
        "  "
      ],
      "execution_count": 0,
      "outputs": [
        {
          "output_type": "stream",
          "text": [
            "Success Finished\n"
          ],
          "name": "stdout"
        }
      ]
    },
    {
      "cell_type": "code",
      "metadata": {
        "id": "O8_0xIfbEGUj",
        "colab_type": "code",
        "colab": {}
      },
      "source": [
        ""
      ],
      "execution_count": 0,
      "outputs": []
    }
  ]
}