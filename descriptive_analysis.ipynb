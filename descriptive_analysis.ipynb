{
  "nbformat": 4,
  "nbformat_minor": 0,
  "metadata": {
    "colab": {
      "name": "descriptive_analysis.ipynb",
      "provenance": [],
      "collapsed_sections": [],
      "mount_file_id": "1jRib65p_mUfZi8QUWO1z3r9SWs22bfQt",
      "authorship_tag": "ABX9TyNHlHfehd+ZyJ1cRpPdkjfH",
      "include_colab_link": true
    },
    "kernelspec": {
      "name": "python3",
      "display_name": "Python 3"
    }
  },
  "cells": [
    {
      "cell_type": "markdown",
      "metadata": {
        "id": "view-in-github",
        "colab_type": "text"
      },
      "source": [
        "<a href=\"https://colab.research.google.com/github/ldejuan/covid/blob/master/descriptive_analysis.ipynb\" target=\"_parent\"><img src=\"https://colab.research.google.com/assets/colab-badge.svg\" alt=\"Open In Colab\"/></a>"
      ]
    },
    {
      "cell_type": "code",
      "metadata": {
        "id": "HcBXnEAVSWhl",
        "colab_type": "code",
        "colab": {}
      },
      "source": [
        "import numpy as np\n",
        "import pandas as pd\n",
        "import zipfile"
      ],
      "execution_count": 0,
      "outputs": []
    },
    {
      "cell_type": "code",
      "metadata": {
        "id": "jC14TuA-U_n5",
        "colab_type": "code",
        "colab": {}
      },
      "source": [
        "#read zip train and test data set from zip Archive\n",
        "PATH_DATA= \"./drive/My Drive/covid/\"\n",
        "fileNameZip = 'covid19-global-forecasting-week-1.zip'\n",
        "archiveName = \"%s%s\"%(PATH_DATA,fileNameZip)\n",
        "trainName= 'train.csv'\n",
        "testName = 'test.csv'\n",
        "submissionNane = 'submission.csv'\n",
        "if zipfile.is_zipfile(archiveName):\n",
        "  with zipfile.ZipFile(archiveName) as archive:\n",
        "    dfTrain = pd.read_csv(archive.open(trainName,'r')).\\\n",
        "      rename(columns={\"Country/Region\":\"Country_Region\",\n",
        "                      \"Province/State\":\"Province_State\"})\n",
        "      \n",
        "    dfTest  = pd.read_csv(archive.open(testName,'r')).\\\n",
        "      rename(columns={\"Country/Region\":\"Country_Region\",\n",
        "                      \"Province/State\":\"Province_State\"})\n",
        "    dfSoubmission  = pd.read_csv(archive.open(submissionNane,'r'))\n",
        "  "
      ],
      "execution_count": 0,
      "outputs": []
    },
    {
      "cell_type": "code",
      "metadata": {
        "id": "ONWnCwvXY5CT",
        "colab_type": "code",
        "colab": {}
      },
      "source": [
        "#Basic transformations\n",
        "dfTrain['Date'] = pd.to_datetime(dfTrain['Date'])"
      ],
      "execution_count": 0,
      "outputs": []
    },
    {
      "cell_type": "code",
      "metadata": {
        "id": "s3o7x_gIhCN4",
        "colab_type": "code",
        "colab": {
          "base_uri": "https://localhost:8080/",
          "height": 202
        },
        "outputId": "1c14f8c2-1397-409a-f5bf-89edeb7608bc"
      },
      "source": [
        "dfTest.head()"
      ],
      "execution_count": 4,
      "outputs": [
        {
          "output_type": "execute_result",
          "data": {
            "text/html": [
              "<div>\n",
              "<style scoped>\n",
              "    .dataframe tbody tr th:only-of-type {\n",
              "        vertical-align: middle;\n",
              "    }\n",
              "\n",
              "    .dataframe tbody tr th {\n",
              "        vertical-align: top;\n",
              "    }\n",
              "\n",
              "    .dataframe thead th {\n",
              "        text-align: right;\n",
              "    }\n",
              "</style>\n",
              "<table border=\"1\" class=\"dataframe\">\n",
              "  <thead>\n",
              "    <tr style=\"text-align: right;\">\n",
              "      <th></th>\n",
              "      <th>ForecastId</th>\n",
              "      <th>Province_State</th>\n",
              "      <th>Country_Region</th>\n",
              "      <th>Lat</th>\n",
              "      <th>Long</th>\n",
              "      <th>Date</th>\n",
              "    </tr>\n",
              "  </thead>\n",
              "  <tbody>\n",
              "    <tr>\n",
              "      <th>0</th>\n",
              "      <td>1</td>\n",
              "      <td>NaN</td>\n",
              "      <td>Afghanistan</td>\n",
              "      <td>33.0</td>\n",
              "      <td>65.0</td>\n",
              "      <td>2020-03-12</td>\n",
              "    </tr>\n",
              "    <tr>\n",
              "      <th>1</th>\n",
              "      <td>2</td>\n",
              "      <td>NaN</td>\n",
              "      <td>Afghanistan</td>\n",
              "      <td>33.0</td>\n",
              "      <td>65.0</td>\n",
              "      <td>2020-03-13</td>\n",
              "    </tr>\n",
              "    <tr>\n",
              "      <th>2</th>\n",
              "      <td>3</td>\n",
              "      <td>NaN</td>\n",
              "      <td>Afghanistan</td>\n",
              "      <td>33.0</td>\n",
              "      <td>65.0</td>\n",
              "      <td>2020-03-14</td>\n",
              "    </tr>\n",
              "    <tr>\n",
              "      <th>3</th>\n",
              "      <td>4</td>\n",
              "      <td>NaN</td>\n",
              "      <td>Afghanistan</td>\n",
              "      <td>33.0</td>\n",
              "      <td>65.0</td>\n",
              "      <td>2020-03-15</td>\n",
              "    </tr>\n",
              "    <tr>\n",
              "      <th>4</th>\n",
              "      <td>5</td>\n",
              "      <td>NaN</td>\n",
              "      <td>Afghanistan</td>\n",
              "      <td>33.0</td>\n",
              "      <td>65.0</td>\n",
              "      <td>2020-03-16</td>\n",
              "    </tr>\n",
              "  </tbody>\n",
              "</table>\n",
              "</div>"
            ],
            "text/plain": [
              "   ForecastId Province_State Country_Region   Lat  Long        Date\n",
              "0           1            NaN    Afghanistan  33.0  65.0  2020-03-12\n",
              "1           2            NaN    Afghanistan  33.0  65.0  2020-03-13\n",
              "2           3            NaN    Afghanistan  33.0  65.0  2020-03-14\n",
              "3           4            NaN    Afghanistan  33.0  65.0  2020-03-15\n",
              "4           5            NaN    Afghanistan  33.0  65.0  2020-03-16"
            ]
          },
          "metadata": {
            "tags": []
          },
          "execution_count": 4
        }
      ]
    },
    {
      "cell_type": "code",
      "metadata": {
        "id": "KnY99XU-g2WH",
        "colab_type": "code",
        "colab": {
          "base_uri": "https://localhost:8080/",
          "height": 202
        },
        "outputId": "2ac23b1a-0b71-419a-8075-76afe14630bc"
      },
      "source": [
        "dfSoubmission.head()"
      ],
      "execution_count": 5,
      "outputs": [
        {
          "output_type": "execute_result",
          "data": {
            "text/html": [
              "<div>\n",
              "<style scoped>\n",
              "    .dataframe tbody tr th:only-of-type {\n",
              "        vertical-align: middle;\n",
              "    }\n",
              "\n",
              "    .dataframe tbody tr th {\n",
              "        vertical-align: top;\n",
              "    }\n",
              "\n",
              "    .dataframe thead th {\n",
              "        text-align: right;\n",
              "    }\n",
              "</style>\n",
              "<table border=\"1\" class=\"dataframe\">\n",
              "  <thead>\n",
              "    <tr style=\"text-align: right;\">\n",
              "      <th></th>\n",
              "      <th>ForecastId</th>\n",
              "      <th>ConfirmedCases</th>\n",
              "      <th>Fatalities</th>\n",
              "    </tr>\n",
              "  </thead>\n",
              "  <tbody>\n",
              "    <tr>\n",
              "      <th>0</th>\n",
              "      <td>1</td>\n",
              "      <td>1</td>\n",
              "      <td>1</td>\n",
              "    </tr>\n",
              "    <tr>\n",
              "      <th>1</th>\n",
              "      <td>2</td>\n",
              "      <td>1</td>\n",
              "      <td>1</td>\n",
              "    </tr>\n",
              "    <tr>\n",
              "      <th>2</th>\n",
              "      <td>3</td>\n",
              "      <td>1</td>\n",
              "      <td>1</td>\n",
              "    </tr>\n",
              "    <tr>\n",
              "      <th>3</th>\n",
              "      <td>4</td>\n",
              "      <td>1</td>\n",
              "      <td>1</td>\n",
              "    </tr>\n",
              "    <tr>\n",
              "      <th>4</th>\n",
              "      <td>5</td>\n",
              "      <td>1</td>\n",
              "      <td>1</td>\n",
              "    </tr>\n",
              "  </tbody>\n",
              "</table>\n",
              "</div>"
            ],
            "text/plain": [
              "   ForecastId  ConfirmedCases  Fatalities\n",
              "0           1               1           1\n",
              "1           2               1           1\n",
              "2           3               1           1\n",
              "3           4               1           1\n",
              "4           5               1           1"
            ]
          },
          "metadata": {
            "tags": []
          },
          "execution_count": 5
        }
      ]
    },
    {
      "cell_type": "code",
      "metadata": {
        "id": "k9mLaicReI95",
        "colab_type": "code",
        "colab": {
          "base_uri": "https://localhost:8080/",
          "height": 477
        },
        "outputId": "47b7faa4-804c-49e3-f72f-93e02e2f6405"
      },
      "source": [
        "# Recover the number of dates per Province_State\n",
        "dfTrain[['Country_Region','Province_State','Date','Fatalities']]\\\n",
        "  .groupby(['Country_Region','Province_State']).agg(['min','max','count'])"
      ],
      "execution_count": 6,
      "outputs": [
        {
          "output_type": "execute_result",
          "data": {
            "text/html": [
              "<div>\n",
              "<style scoped>\n",
              "    .dataframe tbody tr th:only-of-type {\n",
              "        vertical-align: middle;\n",
              "    }\n",
              "\n",
              "    .dataframe tbody tr th {\n",
              "        vertical-align: top;\n",
              "    }\n",
              "\n",
              "    .dataframe thead tr th {\n",
              "        text-align: left;\n",
              "    }\n",
              "\n",
              "    .dataframe thead tr:last-of-type th {\n",
              "        text-align: right;\n",
              "    }\n",
              "</style>\n",
              "<table border=\"1\" class=\"dataframe\">\n",
              "  <thead>\n",
              "    <tr>\n",
              "      <th></th>\n",
              "      <th></th>\n",
              "      <th colspan=\"3\" halign=\"left\">Date</th>\n",
              "      <th colspan=\"3\" halign=\"left\">Fatalities</th>\n",
              "    </tr>\n",
              "    <tr>\n",
              "      <th></th>\n",
              "      <th></th>\n",
              "      <th>min</th>\n",
              "      <th>max</th>\n",
              "      <th>count</th>\n",
              "      <th>min</th>\n",
              "      <th>max</th>\n",
              "      <th>count</th>\n",
              "    </tr>\n",
              "    <tr>\n",
              "      <th>Country_Region</th>\n",
              "      <th>Province_State</th>\n",
              "      <th></th>\n",
              "      <th></th>\n",
              "      <th></th>\n",
              "      <th></th>\n",
              "      <th></th>\n",
              "      <th></th>\n",
              "    </tr>\n",
              "  </thead>\n",
              "  <tbody>\n",
              "    <tr>\n",
              "      <th rowspan=\"5\" valign=\"top\">Australia</th>\n",
              "      <th>Australian Capital Territory</th>\n",
              "      <td>2020-01-22</td>\n",
              "      <td>2020-03-18</td>\n",
              "      <td>57</td>\n",
              "      <td>0.0</td>\n",
              "      <td>0.0</td>\n",
              "      <td>57</td>\n",
              "    </tr>\n",
              "    <tr>\n",
              "      <th>From Diamond Princess</th>\n",
              "      <td>2020-01-22</td>\n",
              "      <td>2020-03-18</td>\n",
              "      <td>57</td>\n",
              "      <td>0.0</td>\n",
              "      <td>0.0</td>\n",
              "      <td>57</td>\n",
              "    </tr>\n",
              "    <tr>\n",
              "      <th>New South Wales</th>\n",
              "      <td>2020-01-22</td>\n",
              "      <td>2020-03-18</td>\n",
              "      <td>57</td>\n",
              "      <td>0.0</td>\n",
              "      <td>5.0</td>\n",
              "      <td>57</td>\n",
              "    </tr>\n",
              "    <tr>\n",
              "      <th>Northern Territory</th>\n",
              "      <td>2020-01-22</td>\n",
              "      <td>2020-03-18</td>\n",
              "      <td>57</td>\n",
              "      <td>0.0</td>\n",
              "      <td>0.0</td>\n",
              "      <td>57</td>\n",
              "    </tr>\n",
              "    <tr>\n",
              "      <th>Queensland</th>\n",
              "      <td>2020-01-22</td>\n",
              "      <td>2020-03-18</td>\n",
              "      <td>57</td>\n",
              "      <td>0.0</td>\n",
              "      <td>0.0</td>\n",
              "      <td>57</td>\n",
              "    </tr>\n",
              "    <tr>\n",
              "      <th>...</th>\n",
              "      <th>...</th>\n",
              "      <td>...</td>\n",
              "      <td>...</td>\n",
              "      <td>...</td>\n",
              "      <td>...</td>\n",
              "      <td>...</td>\n",
              "      <td>...</td>\n",
              "    </tr>\n",
              "    <tr>\n",
              "      <th rowspan=\"5\" valign=\"top\">United Kingdom</th>\n",
              "      <th>Cayman Islands</th>\n",
              "      <td>2020-01-22</td>\n",
              "      <td>2020-03-18</td>\n",
              "      <td>57</td>\n",
              "      <td>0.0</td>\n",
              "      <td>1.0</td>\n",
              "      <td>57</td>\n",
              "    </tr>\n",
              "    <tr>\n",
              "      <th>Channel Islands</th>\n",
              "      <td>2020-01-22</td>\n",
              "      <td>2020-03-18</td>\n",
              "      <td>57</td>\n",
              "      <td>0.0</td>\n",
              "      <td>0.0</td>\n",
              "      <td>57</td>\n",
              "    </tr>\n",
              "    <tr>\n",
              "      <th>Gibraltar</th>\n",
              "      <td>2020-01-22</td>\n",
              "      <td>2020-03-18</td>\n",
              "      <td>57</td>\n",
              "      <td>0.0</td>\n",
              "      <td>0.0</td>\n",
              "      <td>57</td>\n",
              "    </tr>\n",
              "    <tr>\n",
              "      <th>Montserrat</th>\n",
              "      <td>2020-01-22</td>\n",
              "      <td>2020-03-18</td>\n",
              "      <td>57</td>\n",
              "      <td>0.0</td>\n",
              "      <td>0.0</td>\n",
              "      <td>57</td>\n",
              "    </tr>\n",
              "    <tr>\n",
              "      <th>United Kingdom</th>\n",
              "      <td>2020-01-22</td>\n",
              "      <td>2020-03-18</td>\n",
              "      <td>57</td>\n",
              "      <td>0.0</td>\n",
              "      <td>71.0</td>\n",
              "      <td>57</td>\n",
              "    </tr>\n",
              "  </tbody>\n",
              "</table>\n",
              "<p>130 rows × 6 columns</p>\n",
              "</div>"
            ],
            "text/plain": [
              "                                                  Date             ... Fatalities      \n",
              "                                                   min        max  ...        max count\n",
              "Country_Region Province_State                                      ...                 \n",
              "Australia      Australian Capital Territory 2020-01-22 2020-03-18  ...        0.0    57\n",
              "               From Diamond Princess        2020-01-22 2020-03-18  ...        0.0    57\n",
              "               New South Wales              2020-01-22 2020-03-18  ...        5.0    57\n",
              "               Northern Territory           2020-01-22 2020-03-18  ...        0.0    57\n",
              "               Queensland                   2020-01-22 2020-03-18  ...        0.0    57\n",
              "...                                                ...        ...  ...        ...   ...\n",
              "United Kingdom Cayman Islands               2020-01-22 2020-03-18  ...        1.0    57\n",
              "               Channel Islands              2020-01-22 2020-03-18  ...        0.0    57\n",
              "               Gibraltar                    2020-01-22 2020-03-18  ...        0.0    57\n",
              "               Montserrat                   2020-01-22 2020-03-18  ...        0.0    57\n",
              "               United Kingdom               2020-01-22 2020-03-18  ...       71.0    57\n",
              "\n",
              "[130 rows x 6 columns]"
            ]
          },
          "metadata": {
            "tags": []
          },
          "execution_count": 6
        }
      ]
    },
    {
      "cell_type": "code",
      "metadata": {
        "id": "4HvUwLAJZ9vI",
        "colab_type": "code",
        "colab": {}
      },
      "source": [
        "#Create a new columns with the sum of Fatalities and ConfirmedCases by Country_Region\n",
        "\n",
        "dfCountryAgg = dfTrain[[\"Country_Region\",\"Date\",\"Fatalities\",\"ConfirmedCases\"]]\\\n",
        "  .groupby([\"Country_Region\",\"Date\"]).transform(lambda x: np.sum(x))\\\n",
        "  .rename(columns = {'Fatalities':'Country_Fatalities', 'ConfirmedCases':'Country_ConfirmedCases'})\n",
        "\n",
        "dfTrain = dfTrain.merge(dfCountryAgg, left_index=True,right_index=True)\n",
        "\n"
      ],
      "execution_count": 0,
      "outputs": []
    },
    {
      "cell_type": "code",
      "metadata": {
        "id": "Xj2Ys2n85P8U",
        "colab_type": "code",
        "colab": {}
      },
      "source": [
        "def aggByCountry(x):\n",
        "  x['Country_Fatalities'] = np.sum(x.Fatalities)\n",
        "  x['Country_ConfirmedCases'] = np.sum(x.ConfirmedCases)\n",
        "  return x\n",
        "dfTrainAgg = dfTrain.groupby([\"Country_Region\",\"Date\"]).apply(aggByCountry)"
      ],
      "execution_count": 0,
      "outputs": []
    },
    {
      "cell_type": "code",
      "metadata": {
        "id": "G8vfhvfn52wh",
        "colab_type": "code",
        "colab": {
          "base_uri": "https://localhost:8080/",
          "height": 202
        },
        "outputId": "418d6ac1-fc4c-4e11-e041-7b07f0003d34"
      },
      "source": [
        "dfTrainAgg.head()"
      ],
      "execution_count": 44,
      "outputs": [
        {
          "output_type": "execute_result",
          "data": {
            "text/html": [
              "<div>\n",
              "<style scoped>\n",
              "    .dataframe tbody tr th:only-of-type {\n",
              "        vertical-align: middle;\n",
              "    }\n",
              "\n",
              "    .dataframe tbody tr th {\n",
              "        vertical-align: top;\n",
              "    }\n",
              "\n",
              "    .dataframe thead th {\n",
              "        text-align: right;\n",
              "    }\n",
              "</style>\n",
              "<table border=\"1\" class=\"dataframe\">\n",
              "  <thead>\n",
              "    <tr style=\"text-align: right;\">\n",
              "      <th></th>\n",
              "      <th>Id</th>\n",
              "      <th>Province_State</th>\n",
              "      <th>Country_Region</th>\n",
              "      <th>Lat</th>\n",
              "      <th>Long</th>\n",
              "      <th>Date</th>\n",
              "      <th>ConfirmedCases</th>\n",
              "      <th>Fatalities</th>\n",
              "      <th>Country_Fatalities</th>\n",
              "      <th>Country_ConfirmedCases</th>\n",
              "    </tr>\n",
              "  </thead>\n",
              "  <tbody>\n",
              "    <tr>\n",
              "      <th>0</th>\n",
              "      <td>1</td>\n",
              "      <td>NaN</td>\n",
              "      <td>Afghanistan</td>\n",
              "      <td>33.0</td>\n",
              "      <td>65.0</td>\n",
              "      <td>2020-01-22</td>\n",
              "      <td>0.0</td>\n",
              "      <td>0.0</td>\n",
              "      <td>0.0</td>\n",
              "      <td>0.0</td>\n",
              "    </tr>\n",
              "    <tr>\n",
              "      <th>1</th>\n",
              "      <td>2</td>\n",
              "      <td>NaN</td>\n",
              "      <td>Afghanistan</td>\n",
              "      <td>33.0</td>\n",
              "      <td>65.0</td>\n",
              "      <td>2020-01-23</td>\n",
              "      <td>0.0</td>\n",
              "      <td>0.0</td>\n",
              "      <td>0.0</td>\n",
              "      <td>0.0</td>\n",
              "    </tr>\n",
              "    <tr>\n",
              "      <th>2</th>\n",
              "      <td>3</td>\n",
              "      <td>NaN</td>\n",
              "      <td>Afghanistan</td>\n",
              "      <td>33.0</td>\n",
              "      <td>65.0</td>\n",
              "      <td>2020-01-24</td>\n",
              "      <td>0.0</td>\n",
              "      <td>0.0</td>\n",
              "      <td>0.0</td>\n",
              "      <td>0.0</td>\n",
              "    </tr>\n",
              "    <tr>\n",
              "      <th>3</th>\n",
              "      <td>4</td>\n",
              "      <td>NaN</td>\n",
              "      <td>Afghanistan</td>\n",
              "      <td>33.0</td>\n",
              "      <td>65.0</td>\n",
              "      <td>2020-01-25</td>\n",
              "      <td>0.0</td>\n",
              "      <td>0.0</td>\n",
              "      <td>0.0</td>\n",
              "      <td>0.0</td>\n",
              "    </tr>\n",
              "    <tr>\n",
              "      <th>4</th>\n",
              "      <td>5</td>\n",
              "      <td>NaN</td>\n",
              "      <td>Afghanistan</td>\n",
              "      <td>33.0</td>\n",
              "      <td>65.0</td>\n",
              "      <td>2020-01-26</td>\n",
              "      <td>0.0</td>\n",
              "      <td>0.0</td>\n",
              "      <td>0.0</td>\n",
              "      <td>0.0</td>\n",
              "    </tr>\n",
              "  </tbody>\n",
              "</table>\n",
              "</div>"
            ],
            "text/plain": [
              "   Id Province_State  ... Country_Fatalities  Country_ConfirmedCases\n",
              "0   1            NaN  ...                0.0                     0.0\n",
              "1   2            NaN  ...                0.0                     0.0\n",
              "2   3            NaN  ...                0.0                     0.0\n",
              "3   4            NaN  ...                0.0                     0.0\n",
              "4   5            NaN  ...                0.0                     0.0\n",
              "\n",
              "[5 rows x 10 columns]"
            ]
          },
          "metadata": {
            "tags": []
          },
          "execution_count": 44
        }
      ]
    },
    {
      "cell_type": "code",
      "metadata": {
        "id": "yYgM4tKR3V3k",
        "colab_type": "code",
        "colab": {}
      },
      "source": [
        "#Study only at country level\n",
        "dfCountry = dfTrainAgg[[\"Country_Region\",\"Date\",\"Country_Fatalities\",\"Country_ConfirmedCases\"]]\\\n",
        "  .groupby([\"Country_Region\",\"Date\"]).agg(lambda x: x[0])\\\n",
        "  .reset_index()\\\n",
        "  .rename(columns = {'Country_Fatalities' : 'Fatalities', 'Country_ConfirmedCases' : 'ConfirmedCases'})"
      ],
      "execution_count": 0,
      "outputs": []
    },
    {
      "cell_type": "code",
      "metadata": {
        "id": "Fvx4k7pH4moq",
        "colab_type": "code",
        "colab": {
          "base_uri": "https://localhost:8080/",
          "height": 202
        },
        "outputId": "9825b30e-9565-4fef-b9aa-33ceedd1ea59"
      },
      "source": [
        "dfCountry.head()"
      ],
      "execution_count": 46,
      "outputs": [
        {
          "output_type": "execute_result",
          "data": {
            "text/html": [
              "<div>\n",
              "<style scoped>\n",
              "    .dataframe tbody tr th:only-of-type {\n",
              "        vertical-align: middle;\n",
              "    }\n",
              "\n",
              "    .dataframe tbody tr th {\n",
              "        vertical-align: top;\n",
              "    }\n",
              "\n",
              "    .dataframe thead th {\n",
              "        text-align: right;\n",
              "    }\n",
              "</style>\n",
              "<table border=\"1\" class=\"dataframe\">\n",
              "  <thead>\n",
              "    <tr style=\"text-align: right;\">\n",
              "      <th></th>\n",
              "      <th>Country_Region</th>\n",
              "      <th>Date</th>\n",
              "      <th>Fatalities</th>\n",
              "      <th>ConfirmedCases</th>\n",
              "    </tr>\n",
              "  </thead>\n",
              "  <tbody>\n",
              "    <tr>\n",
              "      <th>0</th>\n",
              "      <td>Afghanistan</td>\n",
              "      <td>2020-01-22</td>\n",
              "      <td>0.0</td>\n",
              "      <td>0.0</td>\n",
              "    </tr>\n",
              "    <tr>\n",
              "      <th>1</th>\n",
              "      <td>Afghanistan</td>\n",
              "      <td>2020-01-23</td>\n",
              "      <td>0.0</td>\n",
              "      <td>0.0</td>\n",
              "    </tr>\n",
              "    <tr>\n",
              "      <th>2</th>\n",
              "      <td>Afghanistan</td>\n",
              "      <td>2020-01-24</td>\n",
              "      <td>0.0</td>\n",
              "      <td>0.0</td>\n",
              "    </tr>\n",
              "    <tr>\n",
              "      <th>3</th>\n",
              "      <td>Afghanistan</td>\n",
              "      <td>2020-01-25</td>\n",
              "      <td>0.0</td>\n",
              "      <td>0.0</td>\n",
              "    </tr>\n",
              "    <tr>\n",
              "      <th>4</th>\n",
              "      <td>Afghanistan</td>\n",
              "      <td>2020-01-26</td>\n",
              "      <td>0.0</td>\n",
              "      <td>0.0</td>\n",
              "    </tr>\n",
              "  </tbody>\n",
              "</table>\n",
              "</div>"
            ],
            "text/plain": [
              "  Country_Region       Date  Fatalities  ConfirmedCases\n",
              "0    Afghanistan 2020-01-22         0.0             0.0\n",
              "1    Afghanistan 2020-01-23         0.0             0.0\n",
              "2    Afghanistan 2020-01-24         0.0             0.0\n",
              "3    Afghanistan 2020-01-25         0.0             0.0\n",
              "4    Afghanistan 2020-01-26         0.0             0.0"
            ]
          },
          "metadata": {
            "tags": []
          },
          "execution_count": 46
        }
      ]
    },
    {
      "cell_type": "code",
      "metadata": {
        "id": "Y7W7pJGEaJgV",
        "colab_type": "code",
        "colab": {
          "base_uri": "https://localhost:8080/",
          "height": 283
        },
        "outputId": "f8a07084-6dc2-4f6e-d76e-b5795afecf11"
      },
      "source": [
        "#Some Graph per Country/Region\n",
        "selectedCountry = 'Italy'\n",
        "dfSelectedCountry = dfCountry.query(\"Country_Region == @selectedCountry\")\n",
        "dfSelectedCountry[['Fatalities','ConfirmedCases']].plot()"
      ],
      "execution_count": 49,
      "outputs": [
        {
          "output_type": "execute_result",
          "data": {
            "text/plain": [
              "<matplotlib.axes._subplots.AxesSubplot at 0x7fa98c051518>"
            ]
          },
          "metadata": {
            "tags": []
          },
          "execution_count": 49
        },
        {
          "output_type": "display_data",
          "data": {
            "image/png": "[encoded data removed]",
            "text/plain": [
              "<Figure size 432x288 with 1 Axes>"
            ]
          },
          "metadata": {
            "tags": []
          }
        }
      ]
    },
    {
      "cell_type": "code",
      "metadata": {
        "id": "knv-OIIC9Wr5",
        "colab_type": "code",
        "colab": {
          "base_uri": "https://localhost:8080/",
          "height": 79
        },
        "outputId": "ddd6c46c-046e-46f2-ef28-75eed63da73b"
      },
      "source": [
        "# Some testing to ensure that the country_confirmedCase fatalities is well computed\n",
        "dateMax=dfSelectedCountry['Date'].max()\n",
        "dfSelectedCountry.query('Date == @dateMax').head()"
      ],
      "execution_count": 35,
      "outputs": [
        {
          "output_type": "execute_result",
          "data": {
            "text/html": [
              "<div>\n",
              "<style scoped>\n",
              "    .dataframe tbody tr th:only-of-type {\n",
              "        vertical-align: middle;\n",
              "    }\n",
              "\n",
              "    .dataframe tbody tr th {\n",
              "        vertical-align: top;\n",
              "    }\n",
              "\n",
              "    .dataframe thead th {\n",
              "        text-align: right;\n",
              "    }\n",
              "</style>\n",
              "<table border=\"1\" class=\"dataframe\">\n",
              "  <thead>\n",
              "    <tr style=\"text-align: right;\">\n",
              "      <th></th>\n",
              "      <th>Country_Region</th>\n",
              "      <th>Date</th>\n",
              "      <th>Country_Fatalities</th>\n",
              "      <th>Country_CondfirmedCases</th>\n",
              "    </tr>\n",
              "  </thead>\n",
              "  <tbody>\n",
              "    <tr>\n",
              "      <th>8834</th>\n",
              "      <td>US</td>\n",
              "      <td>2020-03-18</td>\n",
              "      <td>118.0</td>\n",
              "      <td>7786.0</td>\n",
              "    </tr>\n",
              "  </tbody>\n",
              "</table>\n",
              "</div>"
            ],
            "text/plain": [
              "     Country_Region       Date  Country_Fatalities  Country_CondfirmedCases\n",
              "8834             US 2020-03-18               118.0                   7786.0"
            ]
          },
          "metadata": {
            "tags": []
          },
          "execution_count": 35
        }
      ]
    },
    {
      "cell_type": "code",
      "metadata": {
        "id": "QNxcHeLY_q0P",
        "colab_type": "code",
        "colab": {}
      },
      "source": [
        ""
      ],
      "execution_count": 0,
      "outputs": []
    },
    {
      "cell_type": "code",
      "metadata": {
        "id": "wlg1pWQJfczf",
        "colab_type": "code",
        "colab": {}
      },
      "source": [
        "#Find a date offset for each country on Fatalities Rate\n",
        "FatalitiesLevel = 5\n",
        "dfSelectedCountry[dfSelectedCountry[\"Fatalities\"]>=FatalitiesLevel]['Date'].min()\n"
      ],
      "execution_count": 0,
      "outputs": []
    },
    {
      "cell_type": "code",
      "metadata": {
        "id": "eJqwDina50Sb",
        "colab_type": "code",
        "colab": {}
      },
      "source": [
        "#Analyze only countries with fatalities > SelectedFatalities\n",
        "FatalitiesLevel = 1\n",
        "def selectDeathDate(x):\n",
        "  firstDate=x[x.Fatalities>=FatalitiesLevel].Date.min()\n",
        "  x['firstDate'] = firstDate\n",
        "  x['Fatality_Period'] = (x.Date - firstDate) / np.timedelta64(1, 'D')\n",
        "  return x\n",
        "dfCountryNoZero = dfCountry.groupby([\"Country_Region\"])\\\n",
        "  .apply(selectDeathDate)\\\n",
        "  .dropna()\n",
        "dfCountryNoZero = dfCountryNoZero[dfCountryNoZero.Fatality_Period >=0]"
      ],
      "execution_count": 0,
      "outputs": []
    },
    {
      "cell_type": "code",
      "metadata": {
        "id": "2DgJGZ_f7LlG",
        "colab_type": "code",
        "colab": {
          "base_uri": "https://localhost:8080/",
          "height": 202
        },
        "outputId": "d27732d9-7b3c-4b90-d9dd-0214a4a5cfef"
      },
      "source": [
        "dfCountryNoZero.head()"
      ],
      "execution_count": 53,
      "outputs": [
        {
          "output_type": "execute_result",
          "data": {
            "text/html": [
              "<div>\n",
              "<style scoped>\n",
              "    .dataframe tbody tr th:only-of-type {\n",
              "        vertical-align: middle;\n",
              "    }\n",
              "\n",
              "    .dataframe tbody tr th {\n",
              "        vertical-align: top;\n",
              "    }\n",
              "\n",
              "    .dataframe thead th {\n",
              "        text-align: right;\n",
              "    }\n",
              "</style>\n",
              "<table border=\"1\" class=\"dataframe\">\n",
              "  <thead>\n",
              "    <tr style=\"text-align: right;\">\n",
              "      <th></th>\n",
              "      <th>Country_Region</th>\n",
              "      <th>Date</th>\n",
              "      <th>Fatalities</th>\n",
              "      <th>ConfirmedCases</th>\n",
              "      <th>firstDate</th>\n",
              "      <th>Fatality_Period</th>\n",
              "    </tr>\n",
              "  </thead>\n",
              "  <tbody>\n",
              "    <tr>\n",
              "      <th>106</th>\n",
              "      <td>Albania</td>\n",
              "      <td>2020-03-11</td>\n",
              "      <td>1.0</td>\n",
              "      <td>12.0</td>\n",
              "      <td>2020-03-11</td>\n",
              "      <td>0.0</td>\n",
              "    </tr>\n",
              "    <tr>\n",
              "      <th>107</th>\n",
              "      <td>Albania</td>\n",
              "      <td>2020-03-12</td>\n",
              "      <td>1.0</td>\n",
              "      <td>23.0</td>\n",
              "      <td>2020-03-11</td>\n",
              "      <td>1.0</td>\n",
              "    </tr>\n",
              "    <tr>\n",
              "      <th>108</th>\n",
              "      <td>Albania</td>\n",
              "      <td>2020-03-13</td>\n",
              "      <td>1.0</td>\n",
              "      <td>33.0</td>\n",
              "      <td>2020-03-11</td>\n",
              "      <td>2.0</td>\n",
              "    </tr>\n",
              "    <tr>\n",
              "      <th>109</th>\n",
              "      <td>Albania</td>\n",
              "      <td>2020-03-14</td>\n",
              "      <td>1.0</td>\n",
              "      <td>38.0</td>\n",
              "      <td>2020-03-11</td>\n",
              "      <td>3.0</td>\n",
              "    </tr>\n",
              "    <tr>\n",
              "      <th>110</th>\n",
              "      <td>Albania</td>\n",
              "      <td>2020-03-15</td>\n",
              "      <td>1.0</td>\n",
              "      <td>42.0</td>\n",
              "      <td>2020-03-11</td>\n",
              "      <td>4.0</td>\n",
              "    </tr>\n",
              "  </tbody>\n",
              "</table>\n",
              "</div>"
            ],
            "text/plain": [
              "    Country_Region       Date  ...  firstDate  Fatality_Period\n",
              "106        Albania 2020-03-11  ... 2020-03-11              0.0\n",
              "107        Albania 2020-03-12  ... 2020-03-11              1.0\n",
              "108        Albania 2020-03-13  ... 2020-03-11              2.0\n",
              "109        Albania 2020-03-14  ... 2020-03-11              3.0\n",
              "110        Albania 2020-03-15  ... 2020-03-11              4.0\n",
              "\n",
              "[5 rows x 6 columns]"
            ]
          },
          "metadata": {
            "tags": []
          },
          "execution_count": 53
        }
      ]
    },
    {
      "cell_type": "code",
      "metadata": {
        "id": "N8anTqqKCNee",
        "colab_type": "code",
        "colab": {
          "base_uri": "https://localhost:8080/",
          "height": 202
        },
        "outputId": "3a500b8f-e709-4062-e4a3-6d4e7eb83470"
      },
      "source": [
        "dfOneCountry = dfCountryNoZero.query(\"Country_Region == 'China'\")\n",
        "dfOneCountry.head()\n",
        "#np.diff(dfOneCountry.Fatalities,prepend = 0)"
      ],
      "execution_count": 64,
      "outputs": [
        {
          "output_type": "execute_result",
          "data": {
            "text/html": [
              "<div>\n",
              "<style scoped>\n",
              "    .dataframe tbody tr th:only-of-type {\n",
              "        vertical-align: middle;\n",
              "    }\n",
              "\n",
              "    .dataframe tbody tr th {\n",
              "        vertical-align: top;\n",
              "    }\n",
              "\n",
              "    .dataframe thead th {\n",
              "        text-align: right;\n",
              "    }\n",
              "</style>\n",
              "<table border=\"1\" class=\"dataframe\">\n",
              "  <thead>\n",
              "    <tr style=\"text-align: right;\">\n",
              "      <th></th>\n",
              "      <th>Country_Region</th>\n",
              "      <th>Date</th>\n",
              "      <th>Fatalities</th>\n",
              "      <th>ConfirmedCases</th>\n",
              "      <th>firstDate</th>\n",
              "      <th>Fatality_Period</th>\n",
              "    </tr>\n",
              "  </thead>\n",
              "  <tbody>\n",
              "    <tr>\n",
              "      <th>1653</th>\n",
              "      <td>China</td>\n",
              "      <td>2020-01-22</td>\n",
              "      <td>17.0</td>\n",
              "      <td>548.0</td>\n",
              "      <td>2020-01-22</td>\n",
              "      <td>0.0</td>\n",
              "    </tr>\n",
              "    <tr>\n",
              "      <th>1654</th>\n",
              "      <td>China</td>\n",
              "      <td>2020-01-23</td>\n",
              "      <td>18.0</td>\n",
              "      <td>643.0</td>\n",
              "      <td>2020-01-22</td>\n",
              "      <td>1.0</td>\n",
              "    </tr>\n",
              "    <tr>\n",
              "      <th>1655</th>\n",
              "      <td>China</td>\n",
              "      <td>2020-01-24</td>\n",
              "      <td>26.0</td>\n",
              "      <td>920.0</td>\n",
              "      <td>2020-01-22</td>\n",
              "      <td>2.0</td>\n",
              "    </tr>\n",
              "    <tr>\n",
              "      <th>1656</th>\n",
              "      <td>China</td>\n",
              "      <td>2020-01-25</td>\n",
              "      <td>42.0</td>\n",
              "      <td>1406.0</td>\n",
              "      <td>2020-01-22</td>\n",
              "      <td>3.0</td>\n",
              "    </tr>\n",
              "    <tr>\n",
              "      <th>1657</th>\n",
              "      <td>China</td>\n",
              "      <td>2020-01-26</td>\n",
              "      <td>56.0</td>\n",
              "      <td>2075.0</td>\n",
              "      <td>2020-01-22</td>\n",
              "      <td>4.0</td>\n",
              "    </tr>\n",
              "  </tbody>\n",
              "</table>\n",
              "</div>"
            ],
            "text/plain": [
              "     Country_Region       Date  ...  firstDate  Fatality_Period\n",
              "1653          China 2020-01-22  ... 2020-01-22              0.0\n",
              "1654          China 2020-01-23  ... 2020-01-22              1.0\n",
              "1655          China 2020-01-24  ... 2020-01-22              2.0\n",
              "1656          China 2020-01-25  ... 2020-01-22              3.0\n",
              "1657          China 2020-01-26  ... 2020-01-22              4.0\n",
              "\n",
              "[5 rows x 6 columns]"
            ]
          },
          "metadata": {
            "tags": []
          },
          "execution_count": 64
        }
      ]
    },
    {
      "cell_type": "code",
      "metadata": {
        "id": "s9Om4Gwq9aVK",
        "colab_type": "code",
        "colab": {}
      },
      "source": [
        "#Calculated the Daily Rate of Fatalities and ConfirmedCases at country level\n",
        "def calculateRate(x):\n",
        "  x['Fatalities_Rate'] = np.diff(x.Fatalities, prepend = np.NaN)/x.Fatalities\n",
        "  x['ConfirmedCases_Rate'] = np.diff(x.ConfirmedCases, prepend = np.NaN)/x.ConfirmedCases\n",
        "  return x\n",
        "dfCountryRate = dfCountryNoZero.groupby([\"Country_Region\"])\\\n",
        "  .apply(calculateRate)\\\n",
        "  .dropna()"
      ],
      "execution_count": 0,
      "outputs": []
    },
    {
      "cell_type": "code",
      "metadata": {
        "id": "7vrZCjs7E8EO",
        "colab_type": "code",
        "colab": {
          "base_uri": "https://localhost:8080/",
          "height": 52
        },
        "outputId": "07001454-58cc-4e85-f820-fb21404f18e5"
      },
      "source": [
        "#Add features\n",
        "dfCountryRate['Fatalities_Log'] = np.log(dfCountry.Fatalities)\n",
        "dfCountryRate['ConfirmedCases_Log'] = np.log(dfCountry.ConfirmedCases)\n",
        "dfCountryRate['Period_2'] = dfCountryRate.Fatality_Period**2"
      ],
      "execution_count": 113,
      "outputs": [
        {
          "output_type": "stream",
          "text": [
            "/usr/local/lib/python3.6/dist-packages/pandas/core/series.py:856: RuntimeWarning: divide by zero encountered in log\n",
            "  result = getattr(ufunc, method)(*inputs, **kwargs)\n"
          ],
          "name": "stderr"
        }
      ]
    },
    {
      "cell_type": "code",
      "metadata": {
        "id": "La1SLfkNOxUD",
        "colab_type": "code",
        "colab": {
          "base_uri": "https://localhost:8080/",
          "height": 151
        },
        "outputId": "461c0a87-2a17-4f28-9112-99ee5b93bbe6"
      },
      "source": [
        "dfCountryRate[dfCountry.Fatalities < 1]"
      ],
      "execution_count": 122,
      "outputs": [
        {
          "output_type": "stream",
          "text": [
            "/usr/local/lib/python3.6/dist-packages/ipykernel_launcher.py:1: UserWarning: Boolean Series key will be reindexed to match DataFrame index.\n",
            "  \"\"\"Entry point for launching an IPython kernel.\n"
          ],
          "name": "stderr"
        },
        {
          "output_type": "execute_result",
          "data": {
            "text/html": [
              "<div>\n",
              "<style scoped>\n",
              "    .dataframe tbody tr th:only-of-type {\n",
              "        vertical-align: middle;\n",
              "    }\n",
              "\n",
              "    .dataframe tbody tr th {\n",
              "        vertical-align: top;\n",
              "    }\n",
              "\n",
              "    .dataframe thead th {\n",
              "        text-align: right;\n",
              "    }\n",
              "</style>\n",
              "<table border=\"1\" class=\"dataframe\">\n",
              "  <thead>\n",
              "    <tr style=\"text-align: right;\">\n",
              "      <th></th>\n",
              "      <th>Country_Region</th>\n",
              "      <th>Date</th>\n",
              "      <th>Fatalities</th>\n",
              "      <th>ConfirmedCases</th>\n",
              "      <th>firstDate</th>\n",
              "      <th>Fatality_Period</th>\n",
              "      <th>Fatalities_Rate</th>\n",
              "      <th>ConfirmedCases_Rate</th>\n",
              "      <th>Fatalities_Log</th>\n",
              "      <th>ConfirmedCases_Log</th>\n",
              "      <th>Period_2</th>\n",
              "    </tr>\n",
              "  </thead>\n",
              "  <tbody>\n",
              "    <tr>\n",
              "      <th>3930</th>\n",
              "      <td>Iceland</td>\n",
              "      <td>2020-03-16</td>\n",
              "      <td>0.0</td>\n",
              "      <td>180.0</td>\n",
              "      <td>2020-03-15</td>\n",
              "      <td>1.0</td>\n",
              "      <td>-inf</td>\n",
              "      <td>0.05</td>\n",
              "      <td>-inf</td>\n",
              "      <td>5.192957</td>\n",
              "      <td>1.0</td>\n",
              "    </tr>\n",
              "  </tbody>\n",
              "</table>\n",
              "</div>"
            ],
            "text/plain": [
              "     Country_Region       Date  ...  ConfirmedCases_Log  Period_2\n",
              "3930        Iceland 2020-03-16  ...            5.192957       1.0\n",
              "\n",
              "[1 rows x 11 columns]"
            ]
          },
          "metadata": {
            "tags": []
          },
          "execution_count": 122
        }
      ]
    },
    {
      "cell_type": "code",
      "metadata": {
        "id": "Sy2eotQKBKeE",
        "colab_type": "code",
        "colab": {
          "base_uri": "https://localhost:8080/",
          "height": 297
        },
        "outputId": "e521ba4a-3871-41a4-aea6-32364e09e265"
      },
      "source": [
        "dfCountryRate.query(\"Country_Region == 'China'\")[['Fatality_Period','Fatalities_Log']].plot(x='Fatality_Period',y='Fatalities_Log')"
      ],
      "execution_count": 112,
      "outputs": [
        {
          "output_type": "execute_result",
          "data": {
            "text/plain": [
              "<matplotlib.axes._subplots.AxesSubplot at 0x7fa98dc698d0>"
            ]
          },
          "metadata": {
            "tags": []
          },
          "execution_count": 112
        },
        {
          "output_type": "display_data",
          "data": {
            "image/png": "[encoded data removed]",
            "text/plain": [
              "<Figure size 432x288 with 1 Axes>"
            ]
          },
          "metadata": {
            "tags": []
          }
        }
      ]
    },
    {
      "cell_type": "code",
      "metadata": {
        "id": "ilcSugGvDhKd",
        "colab_type": "code",
        "colab": {
          "base_uri": "https://localhost:8080/",
          "height": 309
        },
        "outputId": "84d641b3-f78c-42f6-941a-f3735c4e4938"
      },
      "source": [
        "dfCountryRate.head()"
      ],
      "execution_count": 109,
      "outputs": [
        {
          "output_type": "execute_result",
          "data": {
            "text/html": [
              "<div>\n",
              "<style scoped>\n",
              "    .dataframe tbody tr th:only-of-type {\n",
              "        vertical-align: middle;\n",
              "    }\n",
              "\n",
              "    .dataframe tbody tr th {\n",
              "        vertical-align: top;\n",
              "    }\n",
              "\n",
              "    .dataframe thead th {\n",
              "        text-align: right;\n",
              "    }\n",
              "</style>\n",
              "<table border=\"1\" class=\"dataframe\">\n",
              "  <thead>\n",
              "    <tr style=\"text-align: right;\">\n",
              "      <th></th>\n",
              "      <th>Country_Region</th>\n",
              "      <th>Date</th>\n",
              "      <th>Fatalities</th>\n",
              "      <th>ConfirmedCases</th>\n",
              "      <th>firstDate</th>\n",
              "      <th>Fatality_Period</th>\n",
              "      <th>Fatalities_Rate</th>\n",
              "      <th>ConfirmedCases_Rate</th>\n",
              "      <th>Fatalities_Log</th>\n",
              "      <th>ConfirmedCases_Log</th>\n",
              "    </tr>\n",
              "  </thead>\n",
              "  <tbody>\n",
              "    <tr>\n",
              "      <th>107</th>\n",
              "      <td>Albania</td>\n",
              "      <td>2020-03-12</td>\n",
              "      <td>1.0</td>\n",
              "      <td>23.0</td>\n",
              "      <td>2020-03-11</td>\n",
              "      <td>1.0</td>\n",
              "      <td>0.0</td>\n",
              "      <td>0.478261</td>\n",
              "      <td>0.0</td>\n",
              "      <td>3.135494</td>\n",
              "    </tr>\n",
              "    <tr>\n",
              "      <th>108</th>\n",
              "      <td>Albania</td>\n",
              "      <td>2020-03-13</td>\n",
              "      <td>1.0</td>\n",
              "      <td>33.0</td>\n",
              "      <td>2020-03-11</td>\n",
              "      <td>2.0</td>\n",
              "      <td>0.0</td>\n",
              "      <td>0.303030</td>\n",
              "      <td>0.0</td>\n",
              "      <td>3.496508</td>\n",
              "    </tr>\n",
              "    <tr>\n",
              "      <th>109</th>\n",
              "      <td>Albania</td>\n",
              "      <td>2020-03-14</td>\n",
              "      <td>1.0</td>\n",
              "      <td>38.0</td>\n",
              "      <td>2020-03-11</td>\n",
              "      <td>3.0</td>\n",
              "      <td>0.0</td>\n",
              "      <td>0.131579</td>\n",
              "      <td>0.0</td>\n",
              "      <td>3.637586</td>\n",
              "    </tr>\n",
              "    <tr>\n",
              "      <th>110</th>\n",
              "      <td>Albania</td>\n",
              "      <td>2020-03-15</td>\n",
              "      <td>1.0</td>\n",
              "      <td>42.0</td>\n",
              "      <td>2020-03-11</td>\n",
              "      <td>4.0</td>\n",
              "      <td>0.0</td>\n",
              "      <td>0.095238</td>\n",
              "      <td>0.0</td>\n",
              "      <td>3.737670</td>\n",
              "    </tr>\n",
              "    <tr>\n",
              "      <th>111</th>\n",
              "      <td>Albania</td>\n",
              "      <td>2020-03-16</td>\n",
              "      <td>1.0</td>\n",
              "      <td>51.0</td>\n",
              "      <td>2020-03-11</td>\n",
              "      <td>5.0</td>\n",
              "      <td>0.0</td>\n",
              "      <td>0.176471</td>\n",
              "      <td>0.0</td>\n",
              "      <td>3.931826</td>\n",
              "    </tr>\n",
              "  </tbody>\n",
              "</table>\n",
              "</div>"
            ],
            "text/plain": [
              "    Country_Region       Date  ...  Fatalities_Log  ConfirmedCases_Log\n",
              "107        Albania 2020-03-12  ...             0.0            3.135494\n",
              "108        Albania 2020-03-13  ...             0.0            3.496508\n",
              "109        Albania 2020-03-14  ...             0.0            3.637586\n",
              "110        Albania 2020-03-15  ...             0.0            3.737670\n",
              "111        Albania 2020-03-16  ...             0.0            3.931826\n",
              "\n",
              "[5 rows x 10 columns]"
            ]
          },
          "metadata": {
            "tags": []
          },
          "execution_count": 109
        }
      ]
    },
    {
      "cell_type": "code",
      "metadata": {
        "id": "EpDJ5y_TLkPd",
        "colab_type": "code",
        "colab": {}
      },
      "source": [
        ""
      ],
      "execution_count": 0,
      "outputs": []
    }
  ]
}