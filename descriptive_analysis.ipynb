{
  "nbformat": 4,
  "nbformat_minor": 0,
  "metadata": {
    "colab": {
      "name": "descriptive_analysis.ipynb",
      "provenance": [],
      "mount_file_id": "1jRib65p_mUfZi8QUWO1z3r9SWs22bfQt",
      "authorship_tag": "ABX9TyMn1VgGCjRkogzhuQJwnxoG",
      "include_colab_link": true
    },
    "kernelspec": {
      "name": "python3",
      "display_name": "Python 3"
    }
  },
  "cells": [
    {
      "cell_type": "markdown",
      "metadata": {
        "id": "view-in-github",
        "colab_type": "text"
      },
      "source": [
        "<a href=\"https://colab.research.google.com/github/ldejuan/covid/blob/master/descriptive_analysis.ipynb\" target=\"_parent\"><img src=\"https://colab.research.google.com/assets/colab-badge.svg\" alt=\"Open In Colab\"/></a>"
      ]
    },
    {
      "cell_type": "code",
      "metadata": {
        "id": "HcBXnEAVSWhl",
        "colab_type": "code",
        "colab": {}
      },
      "source": [
        "import numpy as np\n",
        "import pandas as pd\n",
        "import zipfile"
      ],
      "execution_count": 0,
      "outputs": []
    },
    {
      "cell_type": "code",
      "metadata": {
        "id": "jC14TuA-U_n5",
        "colab_type": "code",
        "colab": {}
      },
      "source": [
        "#read zip train and test data set from zip Archive\n",
        "PATH_DATA= \"./drive/My Drive/covid/\"\n",
        "fileNameZip = 'covid19-global-forecasting-week-1.zip'\n",
        "archiveName = \"%s%s\"%(PATH_DATA,fileNameZip)\n",
        "trainName= 'train.csv'\n",
        "testName = 'test.csv'\n",
        "submissionNane = 'submission.csv'\n",
        "if zipfile.is_zipfile(archiveName):\n",
        "  with zipfile.ZipFile(archiveName) as archive:\n",
        "    dfTrain = pd.read_csv(archive.open(trainName,'r')).\\\n",
        "      rename(columns={\"Country/Region\":\"Country_Region\",\n",
        "                      \"Province/State\":\"Province_State\"})\n",
        "      \n",
        "    dfTest  = pd.read_csv(archive.open(testName,'r')).\\\n",
        "      rename(columns={\"Country/Region\":\"Country_Region\",\n",
        "                      \"Province/State\":\"Province_State\"})\n",
        "    dfSoubmission  = pd.read_csv(archive.open(submissionNane,'r'))\n",
        "  "
      ],
      "execution_count": 0,
      "outputs": []
    },
    {
      "cell_type": "code",
      "metadata": {
        "id": "ONWnCwvXY5CT",
        "colab_type": "code",
        "colab": {}
      },
      "source": [
        "dfTrain.head()"
      ],
      "execution_count": 0,
      "outputs": []
    },
    {
      "cell_type": "code",
      "metadata": {
        "id": "s3o7x_gIhCN4",
        "colab_type": "code",
        "colab": {}
      },
      "source": [
        "dfTest.head()"
      ],
      "execution_count": 0,
      "outputs": []
    },
    {
      "cell_type": "code",
      "metadata": {
        "id": "KnY99XU-g2WH",
        "colab_type": "code",
        "colab": {}
      },
      "source": [
        "dfSoubmission.head()"
      ],
      "execution_count": 0,
      "outputs": []
    },
    {
      "cell_type": "code",
      "metadata": {
        "id": "k9mLaicReI95",
        "colab_type": "code",
        "colab": {}
      },
      "source": [
        "# Recover the number of dates per Province_State\n",
        "dfTrain[['Country_Region','Province_State','Date','Fatalities']]\\\n",
        "  .groupby(['Country_Region','Province_State']).agg(['min','max','count'])"
      ],
      "execution_count": 0,
      "outputs": []
    },
    {
      "cell_type": "code",
      "metadata": {
        "id": "4HvUwLAJZ9vI",
        "colab_type": "code",
        "colab": {}
      },
      "source": [
        "#Create a new columns with the sum of Fatalities and ConfirmedCases by Country_Region\n",
        "\n",
        "dfCountryAgg = dfTrain[[\"Country_Region\",\"Date\",\"Fatalities\",\"ConfirmedCases\"]]\\\n",
        "  .groupby([\"Country_Region\",\"Date\"]).agg('sum')\\\n",
        "  .reset_index()\n",
        "dfCountryAgg"
      ],
      "execution_count": 0,
      "outputs": []
    },
    {
      "cell_type": "code",
      "metadata": {
        "id": "Y7W7pJGEaJgV",
        "colab_type": "code",
        "colab": {}
      },
      "source": [
        "# Some Graph per Country/Region\n",
        "selectedCountry = 'Belgium'\n",
        "dfSelectedCountry = dfCountryAgg.query(\"Country_Region == @selectedCountry\")\n",
        "dfSelectedCountry[['Date','ConfirmedCases',\"Fatalities\"]].plot()"
      ],
      "execution_count": 0,
      "outputs": []
    },
    {
      "cell_type": "code",
      "metadata": {
        "id": "wlg1pWQJfczf",
        "colab_type": "code",
        "colab": {}
      },
      "source": [
        ""
      ],
      "execution_count": 0,
      "outputs": []
    }
  ]
}