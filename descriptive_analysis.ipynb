{
  "nbformat": 4,
  "nbformat_minor": 0,
  "metadata": {
    "colab": {
      "name": "descriptive_analysis.ipynb",
      "provenance": [],
      "collapsed_sections": [],
      "mount_file_id": "1jRib65p_mUfZi8QUWO1z3r9SWs22bfQt",
      "authorship_tag": "ABX9TyOKyWXKFZ1u4GU5KAmkrN55",
      "include_colab_link": true
    },
    "kernelspec": {
      "name": "python3",
      "display_name": "Python 3"
    }
  },
  "cells": [
    {
      "cell_type": "markdown",
      "metadata": {
        "id": "view-in-github",
        "colab_type": "text"
      },
      "source": [
        "<a href=\"https://colab.research.google.com/github/ldejuan/covid/blob/master/descriptive_analysis.ipynb\" target=\"_parent\"><img src=\"https://colab.research.google.com/assets/colab-badge.svg\" alt=\"Open In Colab\"/></a>"
      ]
    },
    {
      "cell_type": "code",
      "metadata": {
        "id": "HcBXnEAVSWhl",
        "colab_type": "code",
        "colab": {}
      },
      "source": [
        "import numpy as np\n",
        "import pandas as pd\n",
        "import zipfile\n",
        "import matplotlib.pyplot as plt\n",
        "from pandas.plotting import register_matplotlib_converters\n",
        "register_matplotlib_converters()"
      ],
      "execution_count": 0,
      "outputs": []
    },
    {
      "cell_type": "code",
      "metadata": {
        "id": "jC14TuA-U_n5",
        "colab_type": "code",
        "colab": {}
      },
      "source": [
        "#read zip train and test data set from zip Archive\n",
        "PATH_DATA= \"./drive/My Drive/covid/\"\n",
        "fileNameZip = 'covid19-global-forecasting-week-1.zip'\n",
        "archiveName = \"%s%s\"%(PATH_DATA,fileNameZip)\n",
        "trainName= 'train.csv'\n",
        "testName = 'test.csv'\n",
        "submissionNane = 'submission.csv'\n",
        "if zipfile.is_zipfile(archiveName):\n",
        "  with zipfile.ZipFile(archiveName) as archive:\n",
        "    dfTrain = pd.read_csv(archive.open(trainName,'r')).\\\n",
        "      rename(columns={\"Country/Region\":\"Country_Region\",\n",
        "                      \"Province/State\":\"Province_State\"})\n",
        "      \n",
        "    dfTest  = pd.read_csv(archive.open(testName,'r')).\\\n",
        "      rename(columns={\"Country/Region\":\"Country_Region\",\n",
        "                      \"Province/State\":\"Province_State\"})\n",
        "    dfSoubmission  = pd.read_csv(archive.open(submissionNane,'r'))\n",
        "  "
      ],
      "execution_count": 0,
      "outputs": []
    },
    {
      "cell_type": "code",
      "metadata": {
        "id": "ONWnCwvXY5CT",
        "colab_type": "code",
        "colab": {}
      },
      "source": [
        "#Basic transformations\n",
        "dfTrain['Date'] = pd.to_datetime(dfTrain['Date'])"
      ],
      "execution_count": 0,
      "outputs": []
    },
    {
      "cell_type": "code",
      "metadata": {
        "id": "Xj2Ys2n85P8U",
        "colab_type": "code",
        "colab": {}
      },
      "source": [
        "def aggByCountry(x):\n",
        "  x['Country_Fatalities'] = np.sum(x.Fatalities)\n",
        "  x['Country_ConfirmedCases'] = np.sum(x.ConfirmedCases)\n",
        "  return x\n",
        "dfTrainAgg = dfTrain.groupby([\"Country_Region\",\"Date\"]).apply(aggByCountry)"
      ],
      "execution_count": 0,
      "outputs": []
    },
    {
      "cell_type": "code",
      "metadata": {
        "id": "yYgM4tKR3V3k",
        "colab_type": "code",
        "colab": {}
      },
      "source": [
        "#Study only at country level\n",
        "dfCountry = dfTrainAgg[[\"Country_Region\",\"Date\",\"Country_Fatalities\",\"Country_ConfirmedCases\"]]\\\n",
        "  .groupby([\"Country_Region\",\"Date\"]).agg(lambda x: x[0])\\\n",
        "  .reset_index()\\\n",
        "  .rename(columns = {'Country_Fatalities' : 'Fatalities', 'Country_ConfirmedCases' : 'ConfirmedCases'})"
      ],
      "execution_count": 0,
      "outputs": []
    },
    {
      "cell_type": "code",
      "metadata": {
        "id": "knv-OIIC9Wr5",
        "colab_type": "code",
        "outputId": "4d2e1426-059a-41c9-94c3-68dc715abc30",
        "colab": {
          "base_uri": "https://localhost:8080/",
          "height": 185
        }
      },
      "source": [
        "# Some testing to ensure that the country_confirmedCase fatalities is well computed\n",
        "dateMax=dfSelectedCountry['Date'].max()\n",
        "dfSelectedCountry.query('Date == @dateMax').head()"
      ],
      "execution_count": 6,
      "outputs": [
        {
          "output_type": "error",
          "ename": "NameError",
          "evalue": "ignored",
          "traceback": [
            "\u001b[0;31m---------------------------------------------------------------------------\u001b[0m",
            "\u001b[0;31mNameError\u001b[0m                                 Traceback (most recent call last)",
            "\u001b[0;32m<ipython-input-6-ff89bf1d9977>\u001b[0m in \u001b[0;36m<module>\u001b[0;34m()\u001b[0m\n\u001b[0;32m----> 1\u001b[0;31m \u001b[0mdateMax\u001b[0m\u001b[0;34m=\u001b[0m\u001b[0mdfSelectedCountry\u001b[0m\u001b[0;34m[\u001b[0m\u001b[0;34m'Date'\u001b[0m\u001b[0;34m]\u001b[0m\u001b[0;34m.\u001b[0m\u001b[0mmax\u001b[0m\u001b[0;34m(\u001b[0m\u001b[0;34m)\u001b[0m\u001b[0;34m\u001b[0m\u001b[0;34m\u001b[0m\u001b[0m\n\u001b[0m\u001b[1;32m      2\u001b[0m \u001b[0mdfSelectedCountry\u001b[0m\u001b[0;34m.\u001b[0m\u001b[0mquery\u001b[0m\u001b[0;34m(\u001b[0m\u001b[0;34m'Date == @dateMax'\u001b[0m\u001b[0;34m)\u001b[0m\u001b[0;34m.\u001b[0m\u001b[0mhead\u001b[0m\u001b[0;34m(\u001b[0m\u001b[0;34m)\u001b[0m\u001b[0;34m\u001b[0m\u001b[0;34m\u001b[0m\u001b[0m\n",
            "\u001b[0;31mNameError\u001b[0m: name 'dfSelectedCountry' is not defined"
          ]
        }
      ]
    },
    {
      "cell_type": "code",
      "metadata": {
        "id": "QNxcHeLY_q0P",
        "colab_type": "code",
        "colab": {}
      },
      "source": [
        ""
      ],
      "execution_count": 0,
      "outputs": []
    },
    {
      "cell_type": "code",
      "metadata": {
        "id": "eJqwDina50Sb",
        "colab_type": "code",
        "colab": {}
      },
      "source": [
        "#Analyze only countries with fatalities > SelectedFatalities\n",
        "FatalitiesLevel = 3\n",
        "def selectDeathDate(df):\n",
        "  firstDate=df[df.Fatalities>=FatalitiesLevel].Date.min()\n",
        "  df['firstDate'] = firstDate\n",
        "  df['Fatality_Period'] = (df.Date - firstDate) / np.timedelta64(1, 'D')\n",
        "  return df\n",
        "dfCountryNoZero = dfCountry.groupby([\"Country_Region\"])\\\n",
        "  .apply(selectDeathDate)\\\n",
        "  .dropna()\n",
        "dfCountryNoZero = dfCountryNoZero[dfCountryNoZero.Fatality_Period >=0]\n",
        "# Calculate N_0 and Reset Fatality Rate\n",
        "def rescaleFatalities(df):\n",
        "  df['onset_Fatality'] = np.min(df.Fatalities)\n",
        "  df['shifted_Fatalities'] = df.Fatalities - df.onset_Fatality\n",
        "  return df\n",
        "\n",
        "dfCountryNoZero = dfCountryNoZero.groupby([\"Country_Region\"]).apply(rescaleFatalities)\n"
      ],
      "execution_count": 0,
      "outputs": []
    },
    {
      "cell_type": "code",
      "metadata": {
        "id": "2DgJGZ_f7LlG",
        "colab_type": "code",
        "outputId": "85249e62-356f-4eaf-e2e3-e42b2633dcea",
        "colab": {
          "base_uri": "https://localhost:8080/",
          "height": 200
        }
      },
      "source": [
        "dfCountryNoZero.head()"
      ],
      "execution_count": 8,
      "outputs": [
        {
          "output_type": "execute_result",
          "data": {
            "text/html": [
              "<div>\n",
              "<style scoped>\n",
              "    .dataframe tbody tr th:only-of-type {\n",
              "        vertical-align: middle;\n",
              "    }\n",
              "\n",
              "    .dataframe tbody tr th {\n",
              "        vertical-align: top;\n",
              "    }\n",
              "\n",
              "    .dataframe thead th {\n",
              "        text-align: right;\n",
              "    }\n",
              "</style>\n",
              "<table border=\"1\" class=\"dataframe\">\n",
              "  <thead>\n",
              "    <tr style=\"text-align: right;\">\n",
              "      <th></th>\n",
              "      <th>Country_Region</th>\n",
              "      <th>Date</th>\n",
              "      <th>Fatalities</th>\n",
              "      <th>ConfirmedCases</th>\n",
              "      <th>firstDate</th>\n",
              "      <th>Fatality_Period</th>\n",
              "      <th>onset_Fatality</th>\n",
              "      <th>shifted_Fatalities</th>\n",
              "    </tr>\n",
              "  </thead>\n",
              "  <tbody>\n",
              "    <tr>\n",
              "      <th>166</th>\n",
              "      <td>Algeria</td>\n",
              "      <td>2020-03-14</td>\n",
              "      <td>3.0</td>\n",
              "      <td>37.0</td>\n",
              "      <td>2020-03-14</td>\n",
              "      <td>0.0</td>\n",
              "      <td>3.0</td>\n",
              "      <td>0.0</td>\n",
              "    </tr>\n",
              "    <tr>\n",
              "      <th>167</th>\n",
              "      <td>Algeria</td>\n",
              "      <td>2020-03-15</td>\n",
              "      <td>4.0</td>\n",
              "      <td>48.0</td>\n",
              "      <td>2020-03-14</td>\n",
              "      <td>1.0</td>\n",
              "      <td>3.0</td>\n",
              "      <td>1.0</td>\n",
              "    </tr>\n",
              "    <tr>\n",
              "      <th>168</th>\n",
              "      <td>Algeria</td>\n",
              "      <td>2020-03-16</td>\n",
              "      <td>4.0</td>\n",
              "      <td>54.0</td>\n",
              "      <td>2020-03-14</td>\n",
              "      <td>2.0</td>\n",
              "      <td>3.0</td>\n",
              "      <td>1.0</td>\n",
              "    </tr>\n",
              "    <tr>\n",
              "      <th>169</th>\n",
              "      <td>Algeria</td>\n",
              "      <td>2020-03-17</td>\n",
              "      <td>4.0</td>\n",
              "      <td>60.0</td>\n",
              "      <td>2020-03-14</td>\n",
              "      <td>3.0</td>\n",
              "      <td>3.0</td>\n",
              "      <td>1.0</td>\n",
              "    </tr>\n",
              "    <tr>\n",
              "      <th>170</th>\n",
              "      <td>Algeria</td>\n",
              "      <td>2020-03-18</td>\n",
              "      <td>7.0</td>\n",
              "      <td>74.0</td>\n",
              "      <td>2020-03-14</td>\n",
              "      <td>4.0</td>\n",
              "      <td>3.0</td>\n",
              "      <td>4.0</td>\n",
              "    </tr>\n",
              "  </tbody>\n",
              "</table>\n",
              "</div>"
            ],
            "text/plain": [
              "    Country_Region       Date  ...  onset_Fatality  shifted_Fatalities\n",
              "166        Algeria 2020-03-14  ...             3.0                 0.0\n",
              "167        Algeria 2020-03-15  ...             3.0                 1.0\n",
              "168        Algeria 2020-03-16  ...             3.0                 1.0\n",
              "169        Algeria 2020-03-17  ...             3.0                 1.0\n",
              "170        Algeria 2020-03-18  ...             3.0                 4.0\n",
              "\n",
              "[5 rows x 8 columns]"
            ]
          },
          "metadata": {
            "tags": []
          },
          "execution_count": 8
        }
      ]
    },
    {
      "cell_type": "code",
      "metadata": {
        "id": "s9Om4Gwq9aVK",
        "colab_type": "code",
        "colab": {}
      },
      "source": [
        "#Calculated the Daily Rate of Fatalities and ConfirmedCases at country level\n",
        "def calculateRate(x):\n",
        "  x['Fatalities_Rate'] = np.diff(x.Fatalities, prepend = np.NaN)/x.Fatalities\n",
        "  x['ConfirmedCases_Rate'] = np.diff(x.ConfirmedCases, prepend = np.NaN)/x.ConfirmedCases\n",
        "  return x\n",
        "dfCountryRate = dfCountryNoZero.groupby([\"Country_Region\"])\\\n",
        "  .apply(calculateRate)\\\n",
        "  .dropna()\n",
        "#Remove Fatalities = 0 \n",
        "dfCountryRate = dfCountryRate.drop(dfCountryRate[dfCountryRate.Fatalities == 0].index)"
      ],
      "execution_count": 0,
      "outputs": []
    },
    {
      "cell_type": "code",
      "metadata": {
        "id": "7vrZCjs7E8EO",
        "colab_type": "code",
        "colab": {}
      },
      "source": [
        "#Add features\n",
        "dfCountryRate['Fatalities_Log'] = np.log(dfCountryRate.Fatalities)\n",
        "dfCountryRate['ConfirmedCases_Log'] = np.log(dfCountryRate.ConfirmedCases)\n",
        "dfCountryRate['Period_2'] = dfCountryRate.Fatality_Period**2"
      ],
      "execution_count": 0,
      "outputs": []
    },
    {
      "cell_type": "code",
      "metadata": {
        "id": "La1SLfkNOxUD",
        "colab_type": "code",
        "outputId": "f9e46842-04f1-48ec-a055-f69ac2746331",
        "colab": {
          "base_uri": "https://localhost:8080/",
          "height": 131
        }
      },
      "source": [
        ""
      ],
      "execution_count": 0,
      "outputs": [
        {
          "output_type": "error",
          "ename": "SyntaxError",
          "evalue": "ignored",
          "traceback": [
            "\u001b[0;36m  File \u001b[0;32m\"<ipython-input-28-ca5dc157059d>\"\u001b[0;36m, line \u001b[0;32m1\u001b[0m\n\u001b[0;31m    dfCountryRate.Fatality_Rate.is[dfCountry.Fatalities < 1]\u001b[0m\n\u001b[0m                                 ^\u001b[0m\n\u001b[0;31mSyntaxError\u001b[0m\u001b[0;31m:\u001b[0m invalid syntax\n"
          ]
        }
      ]
    },
    {
      "cell_type": "code",
      "metadata": {
        "id": "Sy2eotQKBKeE",
        "colab_type": "code",
        "outputId": "3e3540d2-0d2b-4bf3-e473-96dc0fc95b52",
        "colab": {
          "base_uri": "https://localhost:8080/",
          "height": 295
        }
      },
      "source": [
        "\n",
        "fig,ax = plt.subplots()\n",
        "def plot_country(df):\n",
        "  y=df.shifted_Fatalities\n",
        "  if np.max(y) > 20 :\n",
        "    x=df.Fatality_Period\n",
        "    ax.plot(x,y, label = df.Country_Region.iloc[0])\n",
        "    return 'success : (%s,%s)'%(np.min(x),np.min(y))\n",
        "  return 'not_plot : %s'%np.min(y)\n",
        "\n",
        "output = dfCountryNoZero.groupby(['Country_Region']).apply(plot_country)\n",
        "\n",
        "ax.set_yscale('log')\n",
        "ax.grid()\n",
        "ax.set_xlabel('days')\n",
        "ax.set_ylabel('Fatalities')\n",
        "ax.set_title(('Covid as %s'%dfCountryNoZero.Date.iloc[-1])[:19])\n",
        "ax.legend()\n",
        "fig.show()"
      ],
      "execution_count": 47,
      "outputs": [
        {
          "output_type": "display_data",
          "data": {
            "image/png": "[encoded data removed]",
            "text/plain": [
              "<Figure size 432x288 with 1 Axes>"
            ]
          },
          "metadata": {
            "tags": []
          }
        }
      ]
    },
    {
      "cell_type": "code",
      "metadata": {
        "id": "ilcSugGvDhKd",
        "colab_type": "code",
        "outputId": "4b3274f7-adaa-4796-cb58-69f3baff8b63",
        "colab": {
          "base_uri": "https://localhost:8080/",
          "height": 35
        }
      },
      "source": [
        "'%s'%dfCountryNoZero.Date.iloc[-1]"
      ],
      "execution_count": 38,
      "outputs": [
        {
          "output_type": "execute_result",
          "data": {
            "text/plain": [
              "'2020-03-18 00:00:00'"
            ]
          },
          "metadata": {
            "tags": []
          },
          "execution_count": 38
        }
      ]
    },
    {
      "cell_type": "code",
      "metadata": {
        "id": "EpDJ5y_TLkPd",
        "colab_type": "code",
        "colab": {
          "base_uri": "https://localhost:8080/",
          "height": 35
        },
        "outputId": "fb540437-3a0e-45e9-cc37-4a33865c1715"
      },
      "source": [
        "asofDate = ('%s'%dfCountryNoZero.Date.iloc[-1])[:10]\n",
        "asofDate"
      ],
      "execution_count": 45,
      "outputs": [
        {
          "output_type": "execute_result",
          "data": {
            "text/plain": [
              "'2020-03-18'"
            ]
          },
          "metadata": {
            "tags": []
          },
          "execution_count": 45
        }
      ]
    },
    {
      "cell_type": "code",
      "metadata": {
        "id": "37ebcy9l40vb",
        "colab_type": "code",
        "colab": {}
      },
      "source": [
        "# Submission\n",
        "dfTest['ConfirmedCases'] = 10.\n",
        "dfTest['Fatalities'] = 2.\n",
        "dfTest[['ForecastId','ConfirmedCases','Fatalities']].to_csv('%ssoubmission.csv'%PATH_DATA, index = False)\n"
      ],
      "execution_count": 0,
      "outputs": []
    },
    {
      "cell_type": "code",
      "metadata": {
        "id": "WpV6km-gCQei",
        "colab_type": "code",
        "colab": {
          "base_uri": "https://localhost:8080/",
          "height": 200
        },
        "outputId": "ed77f512-2cc3-4dd1-aaf4-630c9686928e"
      },
      "source": [
        "dfSoubmission.head()"
      ],
      "execution_count": 32,
      "outputs": [
        {
          "output_type": "execute_result",
          "data": {
            "text/html": [
              "<div>\n",
              "<style scoped>\n",
              "    .dataframe tbody tr th:only-of-type {\n",
              "        vertical-align: middle;\n",
              "    }\n",
              "\n",
              "    .dataframe tbody tr th {\n",
              "        vertical-align: top;\n",
              "    }\n",
              "\n",
              "    .dataframe thead th {\n",
              "        text-align: right;\n",
              "    }\n",
              "</style>\n",
              "<table border=\"1\" class=\"dataframe\">\n",
              "  <thead>\n",
              "    <tr style=\"text-align: right;\">\n",
              "      <th></th>\n",
              "      <th>ForecastId</th>\n",
              "      <th>ConfirmedCases</th>\n",
              "      <th>Fatalities</th>\n",
              "    </tr>\n",
              "  </thead>\n",
              "  <tbody>\n",
              "    <tr>\n",
              "      <th>0</th>\n",
              "      <td>1</td>\n",
              "      <td>1</td>\n",
              "      <td>1</td>\n",
              "    </tr>\n",
              "    <tr>\n",
              "      <th>1</th>\n",
              "      <td>2</td>\n",
              "      <td>1</td>\n",
              "      <td>1</td>\n",
              "    </tr>\n",
              "    <tr>\n",
              "      <th>2</th>\n",
              "      <td>3</td>\n",
              "      <td>1</td>\n",
              "      <td>1</td>\n",
              "    </tr>\n",
              "    <tr>\n",
              "      <th>3</th>\n",
              "      <td>4</td>\n",
              "      <td>1</td>\n",
              "      <td>1</td>\n",
              "    </tr>\n",
              "    <tr>\n",
              "      <th>4</th>\n",
              "      <td>5</td>\n",
              "      <td>1</td>\n",
              "      <td>1</td>\n",
              "    </tr>\n",
              "  </tbody>\n",
              "</table>\n",
              "</div>"
            ],
            "text/plain": [
              "   ForecastId  ConfirmedCases  Fatalities\n",
              "0           1               1           1\n",
              "1           2               1           1\n",
              "2           3               1           1\n",
              "3           4               1           1\n",
              "4           5               1           1"
            ]
          },
          "metadata": {
            "tags": []
          },
          "execution_count": 32
        }
      ]
    },
    {
      "cell_type": "code",
      "metadata": {
        "id": "T8-Ait8fCSPC",
        "colab_type": "code",
        "colab": {}
      },
      "source": [
        ""
      ],
      "execution_count": 0,
      "outputs": []
    }
  ]
}