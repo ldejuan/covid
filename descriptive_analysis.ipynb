{
  "nbformat": 4,
  "nbformat_minor": 0,
  "metadata": {
    "colab": {
      "name": "descriptive_analysis.ipynb",
      "provenance": [],
      "mount_file_id": "1jRib65p_mUfZi8QUWO1z3r9SWs22bfQt",
      "authorship_tag": "ABX9TyOaHoPMQQsobgYr8XWQSbBx",
      "include_colab_link": true
    },
    "kernelspec": {
      "name": "python3",
      "display_name": "Python 3"
    }
  },
  "cells": [
    {
      "cell_type": "markdown",
      "metadata": {
        "id": "view-in-github",
        "colab_type": "text"
      },
      "source": [
        "<a href=\"https://colab.research.google.com/github/ldejuan/covid/blob/master/descriptive_analysis.ipynb\" target=\"_parent\"><img src=\"https://colab.research.google.com/assets/colab-badge.svg\" alt=\"Open In Colab\"/></a>"
      ]
    },
    {
      "cell_type": "code",
      "metadata": {
        "id": "HcBXnEAVSWhl",
        "colab_type": "code",
        "colab": {}
      },
      "source": [
        "import numpy as np\n",
        "import pandas as pd\n",
        "import zipfile"
      ],
      "execution_count": 0,
      "outputs": []
    },
    {
      "cell_type": "code",
      "metadata": {
        "id": "jC14TuA-U_n5",
        "colab_type": "code",
        "colab": {}
      },
      "source": [
        "#read zip train and test data set from zip Archive\n",
        "PATH_DATA= \"./drive/My Drive/covid/\"\n",
        "fileNameZip = 'covid19-global-forecasting-week-1.zip'\n",
        "archiveName = \"%s%s\"%(PATH_DATA,fileNameZip)\n",
        "trainName= 'train.csv'\n",
        "testName = 'test.csv'\n",
        "submissionNane = 'submission.csv'\n",
        "if zipfile.is_zipfile(archiveName):\n",
        "  with zipfile.ZipFile(archiveName) as archive:\n",
        "    dfTrain = pd.read_csv(archive.open(trainName,'r')).\\\n",
        "      rename(columns={\"Country/Region\":\"Country_Region\",\n",
        "                      \"Province/State\":\"Province_State\"})\n",
        "      \n",
        "    dfTest  = pd.read_csv(archive.open(testName,'r')).\\\n",
        "      rename(columns={\"Country/Region\":\"Country_Region\",\n",
        "                      \"Province/State\":\"Province_State\"})\n",
        "    dfSoubmission  = pd.read_csv(archive.open(submissionNane,'r'))\n",
        "  "
      ],
      "execution_count": 0,
      "outputs": []
    },
    {
      "cell_type": "code",
      "metadata": {
        "id": "ONWnCwvXY5CT",
        "colab_type": "code",
        "colab": {}
      },
      "source": [
        "#Basic transformations\n",
        "dfTrain['Date'] = pd.to_datetime(dfTrain['Date'])"
      ],
      "execution_count": 0,
      "outputs": []
    },
    {
      "cell_type": "code",
      "metadata": {
        "id": "s3o7x_gIhCN4",
        "colab_type": "code",
        "colab": {}
      },
      "source": [
        "dfTest.head()"
      ],
      "execution_count": 0,
      "outputs": []
    },
    {
      "cell_type": "code",
      "metadata": {
        "id": "KnY99XU-g2WH",
        "colab_type": "code",
        "colab": {}
      },
      "source": [
        "dfSoubmission.head()"
      ],
      "execution_count": 0,
      "outputs": []
    },
    {
      "cell_type": "code",
      "metadata": {
        "id": "k9mLaicReI95",
        "colab_type": "code",
        "colab": {}
      },
      "source": [
        "# Recover the number of dates per Province_State\n",
        "dfTrain[['Country_Region','Province_State','Date','Fatalities']]\\\n",
        "  .groupby(['Country_Region','Province_State']).agg(['min','max','count'])"
      ],
      "execution_count": 0,
      "outputs": []
    },
    {
      "cell_type": "code",
      "metadata": {
        "id": "4HvUwLAJZ9vI",
        "colab_type": "code",
        "colab": {}
      },
      "source": [
        "#Create a new columns with the sum of Fatalities and ConfirmedCases by Country_Region\n",
        "\n",
        "dfCountryAgg = dfTrain[[\"Country_Region\",\"Date\",\"Fatalities\",\"ConfirmedCases\"]]\\\n",
        "  .groupby([\"Country_Region\",\"Date\"]).transform(lambda x: np.sum(x))\\\n",
        "  .rename(columns = {'Fatalities':'Country_Fatalities', 'ConfirmedCases':'Country_ConfirmedCases'})\n",
        "\n",
        "dfTrain = dfTrain.merge(dfCountryAgg, left_index=True,right_index=True)\n",
        "\n"
      ],
      "execution_count": 0,
      "outputs": []
    },
    {
      "cell_type": "code",
      "metadata": {
        "id": "yYgM4tKR3V3k",
        "colab_type": "code",
        "colab": {}
      },
      "source": [
        "#Study only at country level\n",
        "dfCountry = dfTrain[[\"Country_Region\",\"Date\",\"Fatalities\",\"ConfirmedCases\"]]\\\n",
        "  .groupby([\"Country_Region\",\"Date\"]).agg(lambda x: np.sum(x))\\\n",
        "  .reset_index()"
      ],
      "execution_count": 0,
      "outputs": []
    },
    {
      "cell_type": "code",
      "metadata": {
        "id": "Fvx4k7pH4moq",
        "colab_type": "code",
        "colab": {}
      },
      "source": [
        "dfCountry.head()"
      ],
      "execution_count": 0,
      "outputs": []
    },
    {
      "cell_type": "code",
      "metadata": {
        "id": "Y7W7pJGEaJgV",
        "colab_type": "code",
        "colab": {}
      },
      "source": [
        "#Some Graph per Country/Region\n",
        "selectedCountry = 'US'\n",
        "dfSelectedCountry = dfCountry.query(\"Country_Region == @selectedCountry\")\n",
        "dfSelectedCountry[['Date','ConfirmedCases',\"Fatalities\"]].plot()"
      ],
      "execution_count": 0,
      "outputs": []
    },
    {
      "cell_type": "code",
      "metadata": {
        "id": "wlg1pWQJfczf",
        "colab_type": "code",
        "colab": {}
      },
      "source": [
        "#Find a date offset for each country on Fatalities Rate\n",
        "FatalitiesLevel = 5\n",
        "dfSelectedCountry[dfSelectedCountry[\"Fatalities\"]>=FatalitiesLevel]['Date'].min()\n"
      ],
      "execution_count": 0,
      "outputs": []
    },
    {
      "cell_type": "code",
      "metadata": {
        "id": "eJqwDina50Sb",
        "colab_type": "code",
        "colab": {}
      },
      "source": [
        "#Analyze only countries with fatalities > SelectedFatalities\n",
        "FatalitiesLevel = 5\n",
        "def aggFunction(x):\n",
        "  firstDate=x[x.Fatalities>=FatalitiesLevel].Date.min()\n",
        "  x['firstDate'] = firstDate\n",
        "  x['Fatality_Period'] = (x.Date - firstDate) / np.timedelta64(1, 'D')\n",
        "  return x\n",
        "dfCountryNoZero = dfCountry.groupby([\"Country_Region\"])\\\n",
        "  .apply(aggFunction)\\\n",
        "  .dropna()\n",
        "dfCountryNoZero = dfCountryNoZero[dfCountryNoZero.Fatality_Period >=0]"
      ],
      "execution_count": 0,
      "outputs": []
    },
    {
      "cell_type": "code",
      "metadata": {
        "id": "2DgJGZ_f7LlG",
        "colab_type": "code",
        "colab": {}
      },
      "source": [
        "dfCountryNoZero.head()"
      ],
      "execution_count": 0,
      "outputs": []
    },
    {
      "cell_type": "code",
      "metadata": {
        "id": "s9Om4Gwq9aVK",
        "colab_type": "code",
        "colab": {}
      },
      "source": [
        "dfCountryNoZero.Country_Region.unique()"
      ],
      "execution_count": 0,
      "outputs": []
    },
    {
      "cell_type": "code",
      "metadata": {
        "id": "Sy2eotQKBKeE",
        "colab_type": "code",
        "colab": {}
      },
      "source": [
        ""
      ],
      "execution_count": 0,
      "outputs": []
    }
  ]
}