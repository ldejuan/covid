{
 "cells": [
  {
   "cell_type": "code",
   "execution_count": 16,
   "metadata": {},
   "outputs": [],
   "source": [
    "#\n",
    "# Fonction pour generer une chaine de montecarlo\n",
    "#\n",
    "import numpy as np\n",
    "\n",
    "def chaine_markov(transition, etat = 3):\n",
    "    '''\n",
    "    Generateur d'une chaine de markov. Les etats sont les indices de la matrice\n",
    "    \n",
    "    entrees:\n",
    "        transition : matrice de transition de Markov (somme de ligne =1)\n",
    "        etat : état initial de la chaine de Markov\n",
    "    sorties:\n",
    "        renvoie : l'état issu d'une simulation à partir de l'etat précédent\n",
    "    '''\n",
    "    state = etat\n",
    "    states = np.arange(transition.shape[0])\n",
    "    transition = transition\n",
    "    while (1):\n",
    "        state = np.random.choice(a=states, size = None, replace = True, p = transition[state,:])\n",
    "        yield state\n",
    "        \n",
    "        "
   ]
  },
  {
   "cell_type": "code",
   "execution_count": 205,
   "metadata": {},
   "outputs": [],
   "source": [
    "# Probabilité de décès\n",
    "p1 = 0.03\n",
    "# Probabilité de guérision\n",
    "p2 = 0.1\n",
    "# Probabilité de Vaccination\n",
    "p4 = 0.05\n",
    "# Probabilité de Contagion\n",
    "p3 = 0.05\n",
    "transition = np.array([[1,0,0,0], [0,1,0,0], [p1, p2, 1. - (p1 + p2), 0],[0,p4, p3, 1. - (p3+p4)]])\n"
   ]
  },
  {
   "cell_type": "code",
   "execution_count": 206,
   "metadata": {},
   "outputs": [],
   "source": [
    "etat = 3\n",
    "sim_markov = chaine_markov(transition, etat)"
   ]
  },
  {
   "cell_type": "code",
   "execution_count": 207,
   "metadata": {},
   "outputs": [],
   "source": [
    "#\n",
    "# Taille de la population \n",
    "#\n",
    "population = 5000\n",
    "sim_population = [chaine_markov(transition, etat) for p in np.arange(population)]"
   ]
  },
  {
   "cell_type": "code",
   "execution_count": 208,
   "metadata": {},
   "outputs": [],
   "source": [
    "#\n",
    "# Simulation de la population sur un nombre de jour fixes\n",
    "#\n",
    "jours = 150\n",
    "results={}\n",
    "results[0] = np.full(shape = population, fill_value = etat)\n",
    "for jour in np.arange(1,jours):\n",
    "    results[jour] = np.array([individu.__next__() for individu in sim_population])"
   ]
  },
  {
   "cell_type": "code",
   "execution_count": 209,
   "metadata": {},
   "outputs": [],
   "source": [
    "#\n",
    "# Statistiques : histogram par jour\n",
    "#\n",
    "#for i in np.arange(4):\n",
    "#    print(i, np.sum(np.where(results[10]==i, 1,0)))\n",
    "stats={}\n",
    "for k,v in results.items():\n",
    "    stats[k] = np.histogram(v,bins=4, range=[0,3])[0]"
   ]
  },
  {
   "cell_type": "code",
   "execution_count": 210,
   "metadata": {},
   "outputs": [],
   "source": [
    "stats_array = np.array(list(stats.values()), ndmin=2)"
   ]
  },
  {
   "cell_type": "code",
   "execution_count": 211,
   "metadata": {},
   "outputs": [
    {
     "data": {
      "text/plain": [
       "Text(0, 0.5, 'population')"
      ]
     },
     "execution_count": 211,
     "metadata": {},
     "output_type": "execute_result"
    },
    {
     "data": {
      "image/png": "[encoded data removed]",
      "text/plain": [
       "<Figure size 432x288 with 1 Axes>"
      ]
     },
     "metadata": {
      "needs_background": "light"
     },
     "output_type": "display_data"
    }
   ],
   "source": [
    "#\n",
    "# \n",
    "#\n",
    "labels = ['Décès','Guerris', 'Malades','Sains']\n",
    "import matplotlib.pyplot as plt\n",
    "fig,ax = plt.subplots()\n",
    "for i,label in zip(np.arange(4), labels):\n",
    "    ax.plot(stats_array[:,i], label = label)\n",
    "\n",
    "ax.legend()\n",
    "ax.grid()\n",
    "ax.set_title('Simulation Indépendance')\n",
    "ax.set_xlabel('jour')\n",
    "ax.set_ylabel('population')"
   ]
  },
  {
   "cell_type": "code",
   "execution_count": null,
   "metadata": {},
   "outputs": [],
   "source": []
  }
 ],
 "metadata": {
  "kernelspec": {
   "display_name": "Python 3",
   "language": "python",
   "name": "python3"
  },
  "language_info": {
   "codemirror_mode": {
    "name": "ipython",
    "version": 3
   },
   "file_extension": ".py",
   "mimetype": "text/x-python",
   "name": "python",
   "nbconvert_exporter": "python",
   "pygments_lexer": "ipython3",
   "version": "3.8.3"
  }
 },
 "nbformat": 4,
 "nbformat_minor": 4
}
