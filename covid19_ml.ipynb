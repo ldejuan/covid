{
  "nbformat": 4,
  "nbformat_minor": 0,
  "metadata": {
    "colab": {
      "name": "covid19_ml.ipynb",
      "provenance": [],
      "collapsed_sections": [],
      "include_colab_link": true
    },
    "kernelspec": {
      "name": "python3",
      "display_name": "Python 3"
    }
  },
  "cells": [
    {
      "cell_type": "markdown",
      "metadata": {
        "id": "view-in-github",
        "colab_type": "text"
      },
      "source": [
        "<a href=\"https://colab.research.google.com/github/ldejuan/covid/blob/master/covid19_ml.ipynb\" target=\"_parent\"><img src=\"https://colab.research.google.com/assets/colab-badge.svg\" alt=\"Open In Colab\"/></a>"
      ]
    },
    {
      "cell_type": "code",
      "metadata": {
        "id": "0rSizBIDy4rR",
        "colab_type": "code",
        "colab": {}
      },
      "source": [
        ""
      ],
      "execution_count": 0,
      "outputs": []
    },
    {
      "cell_type": "code",
      "metadata": {
        "id": "nrLyNFr5zCCq",
        "colab_type": "code",
        "colab": {}
      },
      "source": [
        "import numpy as np\n",
        "import pandas as pd\n",
        "import zipfile\n",
        "import matplotlib.pyplot as plt\n",
        "from pandas.plotting import register_matplotlib_converters\n",
        "register_matplotlib_converters()\n",
        "from sklearn.ensemble import RandomForestRegressor\n",
        "\n",
        "from sklearn.compose import ColumnTransformer\n",
        "from sklearn.datasets import fetch_openml\n",
        "from sklearn.pipeline import Pipeline\n",
        "from sklearn.impute import SimpleImputer\n",
        "from sklearn.preprocessing import StandardScaler, OneHotEncoder\n",
        "from sklearn.model_selection import train_test_split, GridSearchCV\n",
        "from scipy import interpolate\n"
      ],
      "execution_count": 0,
      "outputs": []
    },
    {
      "cell_type": "code",
      "metadata": {
        "id": "rmvfI2bKzZDJ",
        "colab_type": "code",
        "colab": {}
      },
      "source": [
        "#read zip train and test data set from zip Archive\n",
        "PATH_DATA= \"./drive/My Drive/covid/\"\n",
        "fileNameZip = 'covid19-global-forecasting-week-2.zip'\n",
        "archiveName = \"%s%s\"%(PATH_DATA,fileNameZip)\n",
        "trainName= 'train.csv'\n",
        "testName = 'test.csv'\n",
        "submissionNane = 'submission.csv'\n",
        "if zipfile.is_zipfile(archiveName):\n",
        "  with zipfile.ZipFile(archiveName) as archive:\n",
        "    dfTrain = pd.read_csv(archive.open(trainName,'r')).\\\n",
        "      rename(columns={\"Country/Region\":\"Country_Region\",\n",
        "                      \"Province/State\":\"Province_State\"})\n",
        "      \n",
        "    dfTest  = pd.read_csv(archive.open(testName,'r')).\\\n",
        "      rename(columns={\"Country/Region\":\"Country_Region\",\n",
        "                      \"Province/State\":\"Province_State\"})\n",
        "    dfSubmission  = pd.read_csv(archive.open(submissionNane,'r'))"
      ],
      "execution_count": 0,
      "outputs": []
    },
    {
      "cell_type": "code",
      "metadata": {
        "id": "Yk-DfjL20XZg",
        "colab_type": "code",
        "colab": {}
      },
      "source": [
        "#\n",
        "# Replace Province_State by None\n",
        "#\n",
        "dfTrain.replace(to_replace = np.nan, value ='none', inplace  =True)\n",
        "dfTest.replace(to_replace = np.nan, value ='none', inplace  =True)\n",
        "dfTrain['Date'] = pd.to_datetime(dfTrain['Date'])\n",
        "dfTest['Date'] = pd.to_datetime(dfTest['Date'])\n"
      ],
      "execution_count": 0,
      "outputs": []
    },
    {
      "cell_type": "code",
      "metadata": {
        "id": "2nBWeIdizfeA",
        "colab_type": "code",
        "colab": {}
      },
      "source": [
        "#\n",
        "# Create features per country\n",
        "#\n",
        "def aggByCountry(x):\n",
        "  x['Country_Fatalities'] = np.sum(x.Fatalities)\n",
        "  x['Country_ConfirmedCases'] = np.sum(x.ConfirmedCases)\n",
        "  return x\n",
        "dfTrainAgg = dfTrain.groupby([\"Country_Region\",\"Date\"]).apply(aggByCountry)"
      ],
      "execution_count": 0,
      "outputs": []
    },
    {
      "cell_type": "code",
      "metadata": {
        "id": "pxJF091lzkDl",
        "colab_type": "code",
        "colab": {}
      },
      "source": [
        "#\n",
        "# Create Forecast features\n",
        "#\n",
        "def createShiftedFeature(df):\n",
        "  df['Cntry_Fatalities_1'] = df.Country_Fatalities.shift(1)\n",
        "  df['Cntry_Fatalities_2'] = df.Country_Fatalities.shift(2)\n",
        "  df['Cntry_Fatalities_4'] = df.Country_Fatalities.shift(4)\n",
        "  df['Cntry_Fatalities_6'] = df.Country_Fatalities.shift(6)\n",
        "  df['Fatalities_p1'] = df.Fatalities.shift(-1)\n",
        "  df['Fatalities_p4'] = df.Fatalities.shift(-4)\n",
        "  df['Fatalities_p8'] = df.Fatalities.shift(-8)\n",
        "  df['Fatalities_p16'] = df.Fatalities.shift(-16)\n",
        "  df['Fatalities_p32'] = df.Fatalities.shift(-32)\n",
        "  df['Cntry_Confirmed_1'] = df.Country_ConfirmedCases.shift(1)\n",
        "  df['Cntry_Confirmed_2'] = df.Country_ConfirmedCases.shift(2)\n",
        "  df['Cntry_Confirmed_4'] = df.Country_ConfirmedCases.shift(4)\n",
        "  df['Cntry_Confirmed_6'] = df.Country_ConfirmedCases.shift(6)\n",
        "  df['Confirmed_p1'] = df.ConfirmedCases.shift(-1)\n",
        "  df['Confirmed_p4'] = df.ConfirmedCases.shift(-4)\n",
        "  df['Confirmed_p8'] = df.ConfirmedCases.shift(-8)\n",
        "  df['Confirmed_p16'] = df.ConfirmedCases.shift(-16)\n",
        "  df['Confirmed_p32'] = df.ConfirmedCases.shift(-32)\n",
        "\n",
        "\n",
        "  return df\n",
        "\n",
        "df2 = dfTrainAgg.groupby([\"Country_Region\",\"Province_State\"]).apply(createShiftedFeature)\n",
        "df2['Country_Province'] = df2['Country_Region'] + df2['Province_State']\n",
        "dfLast = df2.groupby(['Country_Region','Province_State']).tail(1).copy()"
      ],
      "execution_count": 0,
      "outputs": []
    },
    {
      "cell_type": "code",
      "metadata": {
        "id": "VKrvL68wMKjl",
        "colab_type": "code",
        "colab": {}
      },
      "source": [
        "\n"
      ],
      "execution_count": 0,
      "outputs": []
    },
    {
      "cell_type": "code",
      "metadata": {
        "id": "GwoN6TY72_2t",
        "colab_type": "code",
        "colab": {}
      },
      "source": [
        "#\n",
        "# Test a random Forest \n",
        "#\n",
        "\n",
        "model_forecasts = ['Fatalities_p1','Fatalities_p4','Fatalities_p8','Fatalities_p16','Fatalities_p32',\n",
        "                  'Confirmed_p1','Confirmed_p4','Confirmed_p8','Confirmed_p16','Confirmed_p32']\n",
        "numeric_features = ['ConfirmedCases', \n",
        "                      'Fatalities',\n",
        "                      'Country_Fatalities',\n",
        "                      'Country_ConfirmedCases',\n",
        "                      'Cntry_Fatalities_1',\n",
        "                      'Cntry_Fatalities_2',\n",
        "                      'Cntry_Fatalities_4',\n",
        "                      'Cntry_Fatalities_6',\n",
        "                      'Cntry_Confirmed_1',\n",
        "                      'Cntry_Confirmed_2',\n",
        "                      'Cntry_Confirmed_4',\n",
        "                      'Cntry_Confirmed_6']\n",
        "categorical_features = ['Country_Region', 'Country_Province']\n",
        "features = numeric_features + categorical_features\n",
        "\n",
        "def modelPrediction(model_forcast):\n",
        "  numeric_transformer = Pipeline(steps=[\n",
        "      ('imputer', SimpleImputer(strategy='median')),\n",
        "      ('scaler', StandardScaler())])\n",
        "\n",
        "\n",
        "  categorical_transformer = Pipeline(steps=[\n",
        "      ('imputer', SimpleImputer(strategy='constant', fill_value='missing')),\n",
        "      ('onehot', OneHotEncoder(handle_unknown='ignore'))])\n",
        "\n",
        "  preprocessor = ColumnTransformer(\n",
        "      transformers=[\n",
        "          ('num', numeric_transformer, numeric_features),\n",
        "          ('cat', categorical_transformer, categorical_features)])\n",
        "\n",
        "  # Append classifier to preprocessing pipeline.\n",
        "  # Now we have a full prediction pipeline.\n",
        "  clf = Pipeline(steps=[('preprocessor', preprocessor),\n",
        "                        ('classifier', RandomForestRegressor())])\n",
        "\n",
        "\n",
        "  df3 = df2.dropna(subset=features + [model_forcast])\n",
        "\n",
        "  X_train, X_test, y_train, y_test = train_test_split(df3[features], df3[model_forcast], test_size=0.1)\n",
        "\n",
        "  clf.fit(X_train, y_train)\n",
        "  print(\"model score: %.3f\" % clf.score(X_test, y_test))\n",
        "  return clf\n",
        "  \n"
      ],
      "execution_count": 0,
      "outputs": []
    },
    {
      "cell_type": "code",
      "metadata": {
        "id": "shM3jg04_4oN",
        "colab_type": "code",
        "colab": {}
      },
      "source": [
        ""
      ],
      "execution_count": 0,
      "outputs": []
    },
    {
      "cell_type": "code",
      "metadata": {
        "id": "QtM9nrkf-xae",
        "colab_type": "code",
        "outputId": "e13e2a01-5767-4d4b-abe1-854664acdf98",
        "colab": {
          "base_uri": "https://localhost:8080/",
          "height": 372
        }
      },
      "source": [
        "dfPredict = dfLast[['Country_Region','Province_State','Date']].copy()\n",
        "for model_forecast in model_forecasts:\n",
        "  print ('processing ... %s'%model_forecast)\n",
        "  dfPredict[model_forecast] = modelPrediction(model_forecast).predict(dfLast[features])"
      ],
      "execution_count": 0,
      "outputs": [
        {
          "output_type": "stream",
          "text": [
            "processing ... Fatalities_p1\n",
            "model score: 0.991\n",
            "processing ... Fatalities_p4\n",
            "model score: 0.981\n",
            "processing ... Fatalities_p8\n",
            "model score: 0.988\n",
            "processing ... Fatalities_p16\n",
            "model score: 0.935\n",
            "processing ... Fatalities_p32\n",
            "model score: 0.854\n",
            "processing ... Confirmed_p1\n",
            "model score: 0.995\n",
            "processing ... Confirmed_p4\n",
            "model score: 0.996\n",
            "processing ... Confirmed_p8\n",
            "model score: 0.983\n",
            "processing ... Confirmed_p16\n",
            "model score: 0.992\n",
            "processing ... Confirmed_p32\n",
            "model score: 0.964\n"
          ],
          "name": "stdout"
        }
      ]
    },
    {
      "cell_type": "code",
      "metadata": {
        "id": "SMfSUYJGsela",
        "colab_type": "code",
        "colab": {}
      },
      "source": [
        "dfPredict.to_csv('%spredict.csv'%PATH_DATA, index = False)"
      ],
      "execution_count": 0,
      "outputs": []
    },
    {
      "cell_type": "code",
      "metadata": {
        "id": "zBMFyzXJgWTK",
        "colab_type": "code",
        "colab": {}
      },
      "source": [
        "#\n",
        "# Transforming the results into rows\n",
        "#\n",
        "def aggByColumns(df):\n",
        "  x=pd.DataFrame({'Fatalities' : [df.Fatalities_p1.iloc[0], df.Fatalities_p4.iloc[0],\n",
        "                                  df.Fatalities_p8.iloc[0], df.Fatalities_p16.iloc[0],df.Fatalities_p32.iloc[0] ], \n",
        "                'ConfirmedCases' : [df.Confirmed_p1.iloc[0], df.Confirmed_p4.iloc[0],\n",
        "                                    df.Confirmed_p8.iloc[0], df.Confirmed_p16.iloc[0],df.Confirmed_p32.iloc[0] ],\n",
        "                'Date' : [df.Date.iloc[0] + np.timedelta64(1,'D'), df.Date.iloc[0] + np.timedelta64(4,'D'),\n",
        "                         df.Date.iloc[0] + np.timedelta64(8,'D'), df.Date.iloc[0] + np.timedelta64(16,'D'),\n",
        "                          df.Date.iloc[0] + np.timedelta64(32,'D')]\n",
        "  })\n",
        "  return x\n",
        "\n",
        "dfResult = dfPredict.groupby(['Country_Region','Province_State']).apply(aggByColumns).reset_index()"
      ],
      "execution_count": 0,
      "outputs": []
    },
    {
      "cell_type": "code",
      "metadata": {
        "id": "qSHdAjp9gpuT",
        "colab_type": "code",
        "colab": {}
      },
      "source": [
        "#\n",
        "# get the output for submission and merge the results\n",
        "#\n",
        "dfResultAll = dfTest.merge(dfTrain, left_on=['Country_Region','Province_State','Date'], right_on=['Country_Region','Province_State','Date'], how= 'left')\n",
        "dfResultAllM = dfResultAll.set_index(keys = ['Country_Region','Province_State','Date'])\n",
        "dfResultM = dfResult.set_index(keys = ['Country_Region','Province_State','Date'])\n",
        "dfResultAllM.update(dfResultM[['ConfirmedCases','Fatalities']])\n",
        "dfResultAllM.reset_index(inplace = True, drop = False)"
      ],
      "execution_count": 0,
      "outputs": []
    },
    {
      "cell_type": "code",
      "metadata": {
        "id": "BgPRL8ApKduw",
        "colab_type": "code",
        "colab": {}
      },
      "source": [
        "\n"
      ],
      "execution_count": 0,
      "outputs": []
    },
    {
      "cell_type": "code",
      "metadata": {
        "id": "NKb_kbyLUjWH",
        "colab_type": "code",
        "outputId": "395e06f6-4076-4160-a6b9-f2ab9d78dd06",
        "colab": {
          "base_uri": "https://localhost:8080/",
          "height": 35
        }
      },
      "source": [
        "#\n",
        "# Make an interpolation of values to fill na\n",
        "#\n",
        "def interpolation(df):\n",
        "  x=(df.Date - df.Date.iloc[0])/np.timedelta64(1,'D')\n",
        "  y=df.ConfirmedCases\n",
        "  y_=y.dropna()\n",
        "  x_=x[y_.index]\n",
        "  f=interpolate.interp1d(x_,y_,fill_value ='extrapolate')\n",
        "  df['ConfirmedCases_'] = np.round(f(x))\n",
        "\n",
        "  y = df.Fatalities\n",
        "  y_=y.dropna()\n",
        "  x_=x[y_.index]\n",
        "  f=interpolate.interp1d(x_,y_,fill_value = 'extrapolate')\n",
        "  df['Fatalities_'] =np.round(f(x))\n",
        "\n",
        "  return df\n",
        "\n",
        "submission = dfResultAllM.groupby([\"Country_Region\",\"Province_State\"]).apply(interpolation)"
      ],
      "execution_count": 0,
      "outputs": [
        {
          "output_type": "stream",
          "text": [
            "ERROR! Session/line number was not unique in database. History logging moved to new session 64\n"
          ],
          "name": "stdout"
        }
      ]
    },
    {
      "cell_type": "code",
      "metadata": {
        "id": "Q1SZgUqQWTBu",
        "colab_type": "code",
        "outputId": "06a87014-6274-4f54-ae9e-edd8418d8f42",
        "colab": {
          "base_uri": "https://localhost:8080/",
          "height": 35
        }
      },
      "source": [
        "LastSubmissionFile = submission.drop(['Country_Region','Province_State','Id','ConfirmedCases','Fatalities'], axis = 1)\\\n",
        "  .rename(columns= {'ConfirmedCases_': 'ConfirmedCases', \n",
        "                    'Fatalities_': 'Fatalities'})\n",
        "LastSubmissionFile[['Date','ForecastId','ConfirmedCases','Fatalities']].to_csv('%ssubmissiion.csv'%PATH_DATA)\n",
        "\n",
        "print ('Success Finished')\n",
        "  "
      ],
      "execution_count": 0,
      "outputs": [
        {
          "output_type": "stream",
          "text": [
            "Success Finished\n"
          ],
          "name": "stdout"
        }
      ]
    },
    {
      "cell_type": "code",
      "metadata": {
        "id": "c6_47xdSjgOc",
        "colab_type": "code",
        "outputId": "3aee5e3d-7516-4df2-fce3-dc31014150d4",
        "colab": {
          "base_uri": "https://localhost:8080/",
          "height": 35
        }
      },
      "source": [
        ""
      ],
      "execution_count": 0,
      "outputs": [
        {
          "output_type": "execute_result",
          "data": {
            "text/plain": [
              "Index(['Date', 'ForecastId', 'ConfirmedCases', 'Fatalities'], dtype='object')"
            ]
          },
          "metadata": {
            "tags": []
          },
          "execution_count": 13
        }
      ]
    },
    {
      "cell_type": "code",
      "metadata": {
        "id": "4M5d-Ot9kvrr",
        "colab_type": "code",
        "colab": {}
      },
      "source": [
        ""
      ],
      "execution_count": 0,
      "outputs": []
    }
  ]
}